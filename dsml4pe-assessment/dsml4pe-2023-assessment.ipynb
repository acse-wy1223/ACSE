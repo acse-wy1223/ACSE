{
 "cells": [
  {
   "cell_type": "markdown",
   "id": "5db7f22f-d908-4235-8b3e-cead662279cf",
   "metadata": {},
   "source": [
    "<img src=\"data/drill_ship.png\" style=\"width:300px; float:left\">\n",
    "<h1 style=\"text-align: center; color:teal\">Data Science and Machine Learning for Planet Earth - Assessment</h1>\n",
    "\n",
    "<h3 style=\"text-align: center; color:darkgray\">Taken by MSc students on the ACSE, EDSML and GEMS courses</h3>\n",
    "\n",
    "<h2 style=\"text-align: center; color:darkred\">09:00 – 17:00 BST, Friday 17th of November 2023</h2>\n",
    "\n",
    "<h2 style=\"text-align: center; color:red\">REMINDER: THIS IS AN INDIVIDUAL ASSESSMENT</h2>"
   ]
  },
  {
   "cell_type": "markdown",
   "id": "c96a1c67-b3c1-48cb-92e3-2a143901d4e9",
   "metadata": {},
   "source": [
    "# 🐟 Read the `README.md` file for important information:\n",
    "\n",
    "We strongly recommend that you read the `README.md` file, and even keep it open on GitHub for referencing during the assessement. It contains more detail on:\n",
    "\n",
    "- <h3 style=\"color:teal\">Description of the features of your data, and what they mean</h3>\n",
    "- <h3 style=\"color:brown\">A recommended workflow for this assessment</h3>\n",
    "- <h3 style=\"color:teal\">A reminder about what constitutes plagiarism</h3>\n",
    "- <h3 style=\"color:brown\">Details about the assessment criteria</h3>\n",
    "- <h3 style=\"color:teal\">Submitting your assessment</h3>\n",
    "- <h3 style=\"color:brown\">Referrencing your sources</h3>\n",
    "\n",
    "To keep this notebook tidy and small, all of the above are available in the `README.md` file in this repo. "
   ]
  },
  {
   "cell_type": "markdown",
   "id": "75b6f668-8c18-40c4-9b2e-20245d2e3755",
   "metadata": {},
   "source": [
    "# 🌊 Predicting Lithologies for the Ocean Drilling Program\n",
    "\n",
    "In this assessment, you are the **boss of your own AI consluting company**: ***<span style=\"color:teal\">MSC-AI Consulting</span>***. Your client is the **Integrated Ocean Drilling Program** (IODP), a reputable research institution with the mission of drilling the seafloor in order to understand the dynamic of the Earth and its past climates. You know that IODP has approached other, competing AI consulting companies: so don't let them see your answer, and try to do better than them to convince the client to give you the best score!\n",
    "\n",
    "IODP routinely uses two different types of data:\n",
    "\n",
    "1. **Cores**: A core is a piece of rock recovered from the seafloor. This allows geologist to perform analysis on the material, and to identify exactly what type of rock is present. Cores are however difficult to recover, and expensive. You can <a href=\"https://www.ga.gov.au/scientific-topics/marine/survey-techniques/sedimentary-coring-drilling\">learn more about cores here if you want</a>.\n",
    "2. **Downhole (wireline) logs**: IODP can also use downhole or wireline logs, i.e. data from  instruments that are lowered in a drill hole by research geologists. Drill holes can be very deep, down to several kilometers below the water-sediment interface (the unit used is `Depth_WMSF`, also known as meters below seafloor - larger numbers means deeper in the well). Downhole logs record properties of the rocks they measure, including natural gamma radiation (total gamma ray `HCGR`, potassium `HFK`, thorium `HTHO`, uranium `HURA`, shallow and deep penetration resistivity (`IDPH` and `IMPH`) and neutron porosity (`SFLU`). The goal is to use these properties measured continuously to estimate the **lithology** (i.e. type of rock) present. More details are provided <a href=\"https://en.wikipedia.org/wiki/Well_logging\">on this website if you are interested</a>.\n",
    "\n",
    "IODP has been experimenting recently with a brand new type of downhold log called <code>munsel_color</code>. They reckon that this new log type alongside the others could help in the identification of the lithology from wireline log data. They are very excited to test this, and have contacted you to help them - so you see this type of log for the first time.\n",
    "\n",
    "## ⛴️ Your task\n",
    "\n",
    "You are given drilling and logging data (`data/lithology.csv`) that can be used for training and testing, and that contains data from a single well (a drilling location) from 0 to 450 MWSF. In the context of the Integrated Ocean Drilling Program (IODP), the acronym **WMSF** stands for **Water-Depth Meters Below Seafloor**. This unit of measurement is commonly used in ocean drilling and marine geology to specify the depth below the seafloor at which samples are taken or observations are made. \n",
    "\n",
    "You are also being given a second file file (`data/new_samples.csv`) that contains logging data **in the same well** but from 450 WMSF down to 700 MWSF (so deeper than your training data). There is no core data in this interval, only logging data. This means that the `lithology` is not known, and **your goal is to use this wireline log data to predict lithology**. \n",
    "\n",
    "The following diagrams illustrates this situation:\n",
    "\n",
    "<img src=\"data/well.jpg\" style=\"width:600px;\">\n",
    "\n",
    "IODP wants you to train the best algorithm to classify lithology based on the log data provided. The also give you some strict guidance about what they want:\n",
    "\n",
    "1. 🪸 You can prepare your data any way you want, and select any features you want. But as mentioned previously, IODP is very keen on using their new logging tool called `munsell_color` for your predictions. They stipulate that you need to use this feature in your data pipeline - how you use it is up to you.\n",
    "<br><br>\n",
    "2. 🪸 To predict `lithology`, you can use **any parametric model** from sklearn that you prefer. This includes for instance `LogisticRegression`, `SVC(kernel=\"linear\")`, and many others. If you don't know whether your algorithm is parametric, you can try to call the `.coef_` method on it after you `fit` it. If you get an error, it is not parametric and using this model would disqualify you (for instance, `SVC()`, `RandomForest`, `KNeighborsClassifier` are not parametric). You are also told that using `ensemble methods` is not allowed. And you are strongly discouraged from using `MLPClassifier` (too long to train, and too many coefficients - see criteria 2 below).\n",
    "<br><br>\n",
    "3. 🪸 You need to put your entire workflow within a `pipeline` object. This pipeline can be of arbitrary complexity, but it needs to ***1.*** be able to take raw data and produce a predictions of labels directly, and ***2.*** the last position of your pipeline should be your parametric estimator (so if IODP does something like `pipeline[-1]` in their automatic testing they will obtain your estimator object).\n",
    "<br><br>\n",
    "4. 🪸 IODP will assess the performance of your algorithm in two ways. First, they will use the `F1 macro averaging` score on the label of your **unseen data** (i.e. the data in `data/new_samples.csv`), and subtract the `F1 macro averaging` score of your **test set** (which you can choose as you see fit). The smaller the difference between your test set score and the unseen data score, the better. This implies that they will want to have access to your test and train sets (see **Part C - Writing a class** for details).\n",
    "<br><br>\n",
    "5. 🪸 IODP also prefers a balance between high F1 macro score, but simpler models with **as few model coefficients (i.e. model weights) as possible** (as a reminder, the number of weights is exactly proportional to the number of features seen by the classifier). This is why, as a second assessment of your model performance, IODP will look at the ratio of your `F1 macro` score on the predicted **unseen data** divided by the **number of coefficients** in your model (i.e. `model.coef_.shape[1]`), this ratio then multiplied by 100 (higher=better). Hence, you should aim for as few weights as possible (i.e. coefficients) in your model whilst maintaining a decent performance. And as a reminder of point 1. above, you need to include the `munsell_color` feature one way or another in your classifier.\n",
    "<br><br>\n",
    "6. 🪸 For fairness, IODP wants you to set `random_state=42` for any algorithm that requires a random state. Failure to do so might result in a lower score."
   ]
  },
  {
   "cell_type": "markdown",
   "id": "0c10522b-611c-463f-854a-f323ccd463ca",
   "metadata": {},
   "source": [
    "# Run the cell below first\n",
    "\n",
    "This will help automatically reload your class when you make changes to it in **Part C**."
   ]
  },
  {
   "cell_type": "code",
   "execution_count": 1,
   "id": "5af13890-21ed-45ff-b6c7-99534567a09e",
   "metadata": {},
   "outputs": [],
   "source": [
    "%load_ext autoreload\n",
    "%autoreload 2"
   ]
  },
  {
   "cell_type": "markdown",
   "id": "3b4e600f-d0e6-49dd-b2f5-563efda93756",
   "metadata": {},
   "source": [
    "# 🐳  PART A: Exploratory Data Analysis (EDA) [30 marks]\n",
    "\n",
    "In this first task, the client wants you to use this notebook to do some <b>Exploratory Data Analysis</b>. <br>\n",
    "Make sure to keep the notebook clean, and running from top to bottom. Use markdown cells to explain what you are doing, why, and what your finding and conclusions are. Your goal is the understand your data and how you can best model it."
   ]
  },
  {
   "cell_type": "code",
   "execution_count": 1,
   "metadata": {},
   "outputs": [],
   "source": [
    "import matplotlib.pyplot as plt\n",
    "from numpy import ndarray\n",
    "import pandas as pd\n",
    "import numpy as np\n",
    "from sklearn.model_selection import GridSearchCV, train_test_split\n",
    "from sklearn.preprocessing import OneHotEncoder, StandardScaler, RobustScaler, QuantileTransformer, FunctionTransformer\n",
    "from sklearn.impute import SimpleImputer\n",
    "from sklearn.linear_model import LogisticRegression\n",
    "from sklearn.pipeline import Pipeline, make_pipeline\n",
    "from sklearn.compose import ColumnTransformer\n",
    "from sklearn.base import BaseEstimator, TransformerMixin\n",
    "from sklearn.pipeline import make_pipeline\n",
    "from sklearn.feature_extraction import FeatureHasher\n",
    "from sklearn.ensemble import IsolationForest\n",
    "from sklearn.preprocessing import LabelEncoder\n",
    "import seaborn as sns\n",
    "plt.style.use('default')\n",
    "from sklearn.base import BaseEstimator, TransformerMixin\n",
    "class ZeroTransform(BaseEstimator, TransformerMixin):\n",
    "    \"\"\"This transformer replaces negative values by zeros: elemental concentrations cannot be < zero.\"\"\"\n",
    "    \n",
    "    def fit(self, X, y=None):\n",
    "        return self\n",
    "    \n",
    "    def transform(self, X, y=None):\n",
    "        X = np.where(X < 0, 0, X)\n",
    "        return X\n",
    "\n",
    "class LogTransformer(BaseEstimator, TransformerMixin):\n",
    "    \"\"\"This class does a simple log-transform of some of the data.\"\"\"\n",
    "\n",
    "    def __init__(self, seed = 1e-5):\n",
    "        self.seed=seed\n",
    "        return None\n",
    "    \n",
    "    def fit(self, X, y=None):\n",
    "        return self\n",
    "    \n",
    "    def transform(self, X, y=None):\n",
    "        return np.log(X+self.seed)\n",
    "    \n",
    "import pandas as pd\n",
    "from sklearn.base import BaseEstimator, TransformerMixin\n",
    "from table import table\n",
    "\n",
    "class MunselColorMapper(BaseEstimator, TransformerMixin):\n",
    "    def fit(self, X, y=None):\n",
    "        return self  # nothing to fit\n",
    "\n",
    "    def transform(self, X):\n",
    "        new_cols = X['munsel_color'].apply(lambda x: pd.Series(table[x], index=['munsel_color_1', 'munsel_color_2', 'munsel_color_3']))\n",
    "        X_mapped = pd.concat([X, new_cols], axis=1)\n",
    "        X = X_mapped.drop('munsel_color', axis=1)\n",
    "        return X\n",
    "    \n",
    "class DropDuplicatesTransformer(BaseEstimator, TransformerMixin):\n",
    "    \"\"\"This transformer drops duplicate rows.\"\"\"\n",
    "    \n",
    "    def __init__(self):\n",
    "        pass\n",
    "\n",
    "    def fit(self, X, y=None):\n",
    "        return self\n",
    "\n",
    "    def transform(self, X):\n",
    "        return X.drop_duplicates().copy()\n",
    "\n",
    "class OutlierRemover(BaseEstimator, TransformerMixin):\n",
    "    \"\"\"This transformer removes outliers using an IsolationForest.\"\"\"\n",
    "    \n",
    "    def __init__(self, outlier_detector):\n",
    "        self.outlier_detector = outlier_detector\n",
    "\n",
    "    def fit(self, X, y=None):\n",
    "        self.outlier_detector.fit(X)\n",
    "        return self\n",
    "\n",
    "    def transform(self, X, y=None):\n",
    "        is_inlier = self.outlier_detector.predict(X) > 0 # 1 for inliers, -1 for outliers\n",
    "        return X[is_inlier]"
   ]
  },
  {
   "cell_type": "code",
   "execution_count": 11,
   "id": "7e1f65ce-ae4f-44d8-bc5d-82e8ca30c437",
   "metadata": {},
   "outputs": [],
   "source": [
    "import pandas as pd\n",
    "# Load the data:\n",
    "\n",
    "df = pd.read_csv('data/log_data.csv') # This is your EDA (Part A) and training data (Parts B and C)\n",
    "\n",
    "new_samples = pd.read_csv('data/new_data.csv') # This is the file you need to predict in parts B and C"
   ]
  },
  {
   "cell_type": "markdown",
   "metadata": {},
   "source": [
    "## Data Clean\n",
    "Clean data and remove duplicate values"
   ]
  },
  {
   "cell_type": "code",
   "execution_count": 12,
   "metadata": {},
   "outputs": [
    {
     "data": {
      "text/plain": [
       "551"
      ]
     },
     "execution_count": 12,
     "metadata": {},
     "output_type": "execute_result"
    }
   ],
   "source": [
    "df.duplicated().sum()"
   ]
  },
  {
   "cell_type": "code",
   "execution_count": 13,
   "metadata": {},
   "outputs": [],
   "source": [
    "# remove duplicates\n",
    "df = df.drop_duplicates()"
   ]
  },
  {
   "cell_type": "code",
   "execution_count": 14,
   "metadata": {},
   "outputs": [
    {
     "data": {
      "text/plain": [
       "0"
      ]
     },
     "execution_count": 14,
     "metadata": {},
     "output_type": "execute_result"
    }
   ],
   "source": [
    "df.duplicated().sum()"
   ]
  },
  {
   "cell_type": "code",
   "execution_count": 15,
   "metadata": {},
   "outputs": [
    {
     "data": {
      "text/html": [
       "<div>\n",
       "<style scoped>\n",
       "    .dataframe tbody tr th:only-of-type {\n",
       "        vertical-align: middle;\n",
       "    }\n",
       "\n",
       "    .dataframe tbody tr th {\n",
       "        vertical-align: top;\n",
       "    }\n",
       "\n",
       "    .dataframe thead th {\n",
       "        text-align: right;\n",
       "    }\n",
       "</style>\n",
       "<table border=\"1\" class=\"dataframe\">\n",
       "  <thead>\n",
       "    <tr style=\"text-align: right;\">\n",
       "      <th></th>\n",
       "      <th>DEPTH_WMSF</th>\n",
       "      <th>HCGR</th>\n",
       "      <th>HFK</th>\n",
       "      <th>HTHO</th>\n",
       "      <th>HURA</th>\n",
       "      <th>IDPH</th>\n",
       "      <th>IMPH</th>\n",
       "      <th>SFLU</th>\n",
       "      <th>munsel_color</th>\n",
       "      <th>lithology</th>\n",
       "    </tr>\n",
       "  </thead>\n",
       "  <tbody>\n",
       "    <tr>\n",
       "      <th>0</th>\n",
       "      <td>0.0724</td>\n",
       "      <td>5.8481</td>\n",
       "      <td>0.0959</td>\n",
       "      <td>1.3131</td>\n",
       "      <td>-0.1712</td>\n",
       "      <td>1950.0000</td>\n",
       "      <td>1765.0116</td>\n",
       "      <td>0.0915</td>\n",
       "      <td>5R 4 10</td>\n",
       "      <td>Sandy Mud</td>\n",
       "    </tr>\n",
       "    <tr>\n",
       "      <th>1</th>\n",
       "      <td>0.0736</td>\n",
       "      <td>0.5881</td>\n",
       "      <td>0.0116</td>\n",
       "      <td>0.1206</td>\n",
       "      <td>0.0077</td>\n",
       "      <td>46.6488</td>\n",
       "      <td>124.4472</td>\n",
       "      <td>1.5966</td>\n",
       "      <td>10PB 0.2 18</td>\n",
       "      <td>Sandy Mud</td>\n",
       "    </tr>\n",
       "    <tr>\n",
       "      <th>2</th>\n",
       "      <td>0.0880</td>\n",
       "      <td>1.9945</td>\n",
       "      <td>0.0354</td>\n",
       "      <td>0.4317</td>\n",
       "      <td>0.0501</td>\n",
       "      <td>1950.0000</td>\n",
       "      <td>1950.0000</td>\n",
       "      <td>0.1589</td>\n",
       "      <td>2.5YR 8 10</td>\n",
       "      <td>Interbedded sand and mud</td>\n",
       "    </tr>\n",
       "    <tr>\n",
       "      <th>3</th>\n",
       "      <td>0.0920</td>\n",
       "      <td>22.4306</td>\n",
       "      <td>0.6522</td>\n",
       "      <td>3.3707</td>\n",
       "      <td>0.0916</td>\n",
       "      <td>1950.0000</td>\n",
       "      <td>1950.0000</td>\n",
       "      <td>9700.0000</td>\n",
       "      <td>10PB 0.2 18</td>\n",
       "      <td>Sandy Mud</td>\n",
       "    </tr>\n",
       "    <tr>\n",
       "      <th>4</th>\n",
       "      <td>0.2248</td>\n",
       "      <td>7.6691</td>\n",
       "      <td>0.1369</td>\n",
       "      <td>1.6566</td>\n",
       "      <td>-0.2301</td>\n",
       "      <td>1950.0000</td>\n",
       "      <td>1765.0116</td>\n",
       "      <td>0.0915</td>\n",
       "      <td>10PB 0.2 18</td>\n",
       "      <td>Sandy Mud</td>\n",
       "    </tr>\n",
       "  </tbody>\n",
       "</table>\n",
       "</div>"
      ],
      "text/plain": [
       "   DEPTH_WMSF     HCGR     HFK    HTHO    HURA       IDPH       IMPH  \\\n",
       "0      0.0724   5.8481  0.0959  1.3131 -0.1712  1950.0000  1765.0116   \n",
       "1      0.0736   0.5881  0.0116  0.1206  0.0077    46.6488   124.4472   \n",
       "2      0.0880   1.9945  0.0354  0.4317  0.0501  1950.0000  1950.0000   \n",
       "3      0.0920  22.4306  0.6522  3.3707  0.0916  1950.0000  1950.0000   \n",
       "4      0.2248   7.6691  0.1369  1.6566 -0.2301  1950.0000  1765.0116   \n",
       "\n",
       "        SFLU munsel_color                  lithology  \n",
       "0     0.0915      5R 4 10                  Sandy Mud  \n",
       "1     1.5966  10PB 0.2 18                  Sandy Mud  \n",
       "2     0.1589   2.5YR 8 10  Interbedded sand and mud   \n",
       "3  9700.0000  10PB 0.2 18                  Sandy Mud  \n",
       "4     0.0915  10PB 0.2 18                  Sandy Mud  "
      ]
     },
     "execution_count": 15,
     "metadata": {},
     "output_type": "execute_result"
    }
   ],
   "source": [
    "df.head()"
   ]
  },
  {
   "cell_type": "code",
   "execution_count": 16,
   "id": "0de0089a-9ec2-43ef-8d8c-fbb7f3c37694",
   "metadata": {},
   "outputs": [
    {
     "data": {
      "text/plain": [
       "DEPTH_WMSF      0\n",
       "HCGR            0\n",
       "HFK             0\n",
       "HTHO            0\n",
       "HURA            0\n",
       "IDPH            0\n",
       "IMPH            0\n",
       "SFLU            0\n",
       "munsel_color    0\n",
       "lithology       0\n",
       "dtype: int64"
      ]
     },
     "execution_count": 16,
     "metadata": {},
     "output_type": "execute_result"
    }
   ],
   "source": [
    "# check for missing values\n",
    "df.isnull().sum() # no missing values"
   ]
  },
  {
   "cell_type": "markdown",
   "metadata": {},
   "source": [
    "## Train-Test split"
   ]
  },
  {
   "cell_type": "code",
   "execution_count": 23,
   "metadata": {},
   "outputs": [],
   "source": [
    "def get_X_y(df):\n",
    "    X = df.drop(['lithology'], axis=1)\n",
    "    y = df['lithology']\n",
    "    return X, y"
   ]
  },
  {
   "cell_type": "code",
   "execution_count": 24,
   "metadata": {},
   "outputs": [],
   "source": [
    "from sklearn.preprocessing import LabelEncoder\n",
    "# 创建一个 LabelEncoder 实例\n",
    "le = LabelEncoder()\n",
    "y = df['lithology']\n",
    "le.fit(y)\n",
    "y = le.transform(y) # y is now a numpy array of integers\n",
    "df['lithology'] = y"
   ]
  },
  {
   "cell_type": "code",
   "execution_count": 25,
   "metadata": {},
   "outputs": [],
   "source": [
    "test_frac = int(df.shape[0]*.3)+1\n",
    "sorted_data = df.sort_values(by=['DEPTH_WMSF'], ascending=False)        \n",
    "test_set = sorted_data.iloc[:test_frac]\n",
    "train_set = sorted_data.iloc[test_frac:]\n",
    "\n",
    "X_train, y_train = get_X_y(train_set)\n",
    "X_test, y_test = get_X_y(test_set)"
   ]
  },
  {
   "cell_type": "code",
   "execution_count": 26,
   "metadata": {},
   "outputs": [
    {
     "data": {
      "text/html": [
       "<div>\n",
       "<style scoped>\n",
       "    .dataframe tbody tr th:only-of-type {\n",
       "        vertical-align: middle;\n",
       "    }\n",
       "\n",
       "    .dataframe tbody tr th {\n",
       "        vertical-align: top;\n",
       "    }\n",
       "\n",
       "    .dataframe thead th {\n",
       "        text-align: right;\n",
       "    }\n",
       "</style>\n",
       "<table border=\"1\" class=\"dataframe\">\n",
       "  <thead>\n",
       "    <tr style=\"text-align: right;\">\n",
       "      <th></th>\n",
       "      <th>DEPTH_WMSF</th>\n",
       "      <th>HCGR</th>\n",
       "      <th>HFK</th>\n",
       "      <th>HTHO</th>\n",
       "      <th>HURA</th>\n",
       "      <th>IDPH</th>\n",
       "      <th>IMPH</th>\n",
       "      <th>SFLU</th>\n",
       "      <th>munsel_color</th>\n",
       "    </tr>\n",
       "  </thead>\n",
       "  <tbody>\n",
       "    <tr>\n",
       "      <th>8139</th>\n",
       "      <td>273.9120</td>\n",
       "      <td>53.0798</td>\n",
       "      <td>1.5359</td>\n",
       "      <td>8.0245</td>\n",
       "      <td>2.2557</td>\n",
       "      <td>1.2995</td>\n",
       "      <td>1.0868</td>\n",
       "      <td>0.6589</td>\n",
       "      <td>5P 3 6</td>\n",
       "    </tr>\n",
       "    <tr>\n",
       "      <th>8138</th>\n",
       "      <td>273.7984</td>\n",
       "      <td>59.1977</td>\n",
       "      <td>1.5576</td>\n",
       "      <td>9.8627</td>\n",
       "      <td>2.7544</td>\n",
       "      <td>1.5905</td>\n",
       "      <td>1.3903</td>\n",
       "      <td>0.6885</td>\n",
       "      <td>2.5R 8 6</td>\n",
       "    </tr>\n",
       "    <tr>\n",
       "      <th>8137</th>\n",
       "      <td>273.7840</td>\n",
       "      <td>56.5277</td>\n",
       "      <td>1.4407</td>\n",
       "      <td>9.6910</td>\n",
       "      <td>2.1578</td>\n",
       "      <td>1.2697</td>\n",
       "      <td>1.2614</td>\n",
       "      <td>1.1236</td>\n",
       "      <td>10B 8 12</td>\n",
       "    </tr>\n",
       "    <tr>\n",
       "      <th>8136</th>\n",
       "      <td>273.7828</td>\n",
       "      <td>22.3937</td>\n",
       "      <td>0.4726</td>\n",
       "      <td>4.4135</td>\n",
       "      <td>1.1880</td>\n",
       "      <td>1.0736</td>\n",
       "      <td>1.1140</td>\n",
       "      <td>0.6077</td>\n",
       "      <td>5P 3 6</td>\n",
       "    </tr>\n",
       "    <tr>\n",
       "      <th>8135</th>\n",
       "      <td>273.7596</td>\n",
       "      <td>51.6912</td>\n",
       "      <td>1.5067</td>\n",
       "      <td>7.7503</td>\n",
       "      <td>2.4325</td>\n",
       "      <td>1.3005</td>\n",
       "      <td>1.1050</td>\n",
       "      <td>0.6512</td>\n",
       "      <td>5P 3 6</td>\n",
       "    </tr>\n",
       "  </tbody>\n",
       "</table>\n",
       "</div>"
      ],
      "text/plain": [
       "      DEPTH_WMSF     HCGR     HFK    HTHO    HURA    IDPH    IMPH    SFLU  \\\n",
       "8139    273.9120  53.0798  1.5359  8.0245  2.2557  1.2995  1.0868  0.6589   \n",
       "8138    273.7984  59.1977  1.5576  9.8627  2.7544  1.5905  1.3903  0.6885   \n",
       "8137    273.7840  56.5277  1.4407  9.6910  2.1578  1.2697  1.2614  1.1236   \n",
       "8136    273.7828  22.3937  0.4726  4.4135  1.1880  1.0736  1.1140  0.6077   \n",
       "8135    273.7596  51.6912  1.5067  7.7503  2.4325  1.3005  1.1050  0.6512   \n",
       "\n",
       "     munsel_color  \n",
       "8139       5P 3 6  \n",
       "8138     2.5R 8 6  \n",
       "8137     10B 8 12  \n",
       "8136       5P 3 6  \n",
       "8135       5P 3 6  "
      ]
     },
     "execution_count": 26,
     "metadata": {},
     "output_type": "execute_result"
    }
   ],
   "source": [
    "X_train.head()"
   ]
  },
  {
   "cell_type": "code",
   "execution_count": 27,
   "metadata": {},
   "outputs": [
    {
     "data": {
      "text/plain": [
       "8139    2\n",
       "8138    3\n",
       "8137    3\n",
       "8136    2\n",
       "8135    2\n",
       "       ..\n",
       "4       4\n",
       "3       4\n",
       "2       1\n",
       "1       4\n",
       "0       4\n",
       "Name: lithology, Length: 7755, dtype: int64"
      ]
     },
     "execution_count": 27,
     "metadata": {},
     "output_type": "execute_result"
    }
   ],
   "source": [
    "y_train"
   ]
  },
  {
   "cell_type": "code",
   "execution_count": 28,
   "metadata": {},
   "outputs": [
    {
     "data": {
      "text/plain": [
       "(7755,)"
      ]
     },
     "execution_count": 28,
     "metadata": {},
     "output_type": "execute_result"
    }
   ],
   "source": [
    "y_train.shape"
   ]
  },
  {
   "cell_type": "code",
   "execution_count": 29,
   "metadata": {},
   "outputs": [
    {
     "data": {
      "text/plain": [
       "DEPTH_WMSF      float64\n",
       "HCGR            float64\n",
       "HFK             float64\n",
       "HTHO            float64\n",
       "HURA            float64\n",
       "IDPH            float64\n",
       "IMPH            float64\n",
       "SFLU            float64\n",
       "munsel_color     object\n",
       "dtype: object"
      ]
     },
     "execution_count": 29,
     "metadata": {},
     "output_type": "execute_result"
    }
   ],
   "source": [
    "X_train.dtypes"
   ]
  },
  {
   "cell_type": "code",
   "execution_count": 30,
   "metadata": {},
   "outputs": [],
   "source": [
    "num_features = X_train.select_dtypes(include=['int64', 'float64']).columns\n",
    "cat_features = X_train.select_dtypes(include=['object']).columns"
   ]
  },
  {
   "cell_type": "code",
   "execution_count": 32,
   "metadata": {},
   "outputs": [
    {
     "data": {
      "text/plain": [
       "Index(['DEPTH_WMSF', 'HCGR', 'HFK', 'HTHO', 'HURA', 'IDPH', 'IMPH', 'SFLU'], dtype='object')"
      ]
     },
     "execution_count": 32,
     "metadata": {},
     "output_type": "execute_result"
    }
   ],
   "source": [
    "num_features # get numerical features"
   ]
  },
  {
   "cell_type": "code",
   "execution_count": 33,
   "metadata": {},
   "outputs": [],
   "source": [
    "X_train_num = X_train[num_features] # get data of numerical features"
   ]
  },
  {
   "cell_type": "code",
   "execution_count": 34,
   "metadata": {},
   "outputs": [
    {
     "data": {
      "text/html": [
       "<div>\n",
       "<style scoped>\n",
       "    .dataframe tbody tr th:only-of-type {\n",
       "        vertical-align: middle;\n",
       "    }\n",
       "\n",
       "    .dataframe tbody tr th {\n",
       "        vertical-align: top;\n",
       "    }\n",
       "\n",
       "    .dataframe thead th {\n",
       "        text-align: right;\n",
       "    }\n",
       "</style>\n",
       "<table border=\"1\" class=\"dataframe\">\n",
       "  <thead>\n",
       "    <tr style=\"text-align: right;\">\n",
       "      <th></th>\n",
       "      <th>DEPTH_WMSF</th>\n",
       "      <th>HCGR</th>\n",
       "      <th>HFK</th>\n",
       "      <th>HTHO</th>\n",
       "      <th>HURA</th>\n",
       "      <th>IDPH</th>\n",
       "      <th>IMPH</th>\n",
       "      <th>SFLU</th>\n",
       "    </tr>\n",
       "  </thead>\n",
       "  <tbody>\n",
       "    <tr>\n",
       "      <th>8139</th>\n",
       "      <td>273.9120</td>\n",
       "      <td>53.0798</td>\n",
       "      <td>1.5359</td>\n",
       "      <td>8.0245</td>\n",
       "      <td>2.2557</td>\n",
       "      <td>1.2995</td>\n",
       "      <td>1.0868</td>\n",
       "      <td>0.6589</td>\n",
       "    </tr>\n",
       "    <tr>\n",
       "      <th>8138</th>\n",
       "      <td>273.7984</td>\n",
       "      <td>59.1977</td>\n",
       "      <td>1.5576</td>\n",
       "      <td>9.8627</td>\n",
       "      <td>2.7544</td>\n",
       "      <td>1.5905</td>\n",
       "      <td>1.3903</td>\n",
       "      <td>0.6885</td>\n",
       "    </tr>\n",
       "    <tr>\n",
       "      <th>8137</th>\n",
       "      <td>273.7840</td>\n",
       "      <td>56.5277</td>\n",
       "      <td>1.4407</td>\n",
       "      <td>9.6910</td>\n",
       "      <td>2.1578</td>\n",
       "      <td>1.2697</td>\n",
       "      <td>1.2614</td>\n",
       "      <td>1.1236</td>\n",
       "    </tr>\n",
       "    <tr>\n",
       "      <th>8136</th>\n",
       "      <td>273.7828</td>\n",
       "      <td>22.3937</td>\n",
       "      <td>0.4726</td>\n",
       "      <td>4.4135</td>\n",
       "      <td>1.1880</td>\n",
       "      <td>1.0736</td>\n",
       "      <td>1.1140</td>\n",
       "      <td>0.6077</td>\n",
       "    </tr>\n",
       "    <tr>\n",
       "      <th>8135</th>\n",
       "      <td>273.7596</td>\n",
       "      <td>51.6912</td>\n",
       "      <td>1.5067</td>\n",
       "      <td>7.7503</td>\n",
       "      <td>2.4325</td>\n",
       "      <td>1.3005</td>\n",
       "      <td>1.1050</td>\n",
       "      <td>0.6512</td>\n",
       "    </tr>\n",
       "    <tr>\n",
       "      <th>...</th>\n",
       "      <td>...</td>\n",
       "      <td>...</td>\n",
       "      <td>...</td>\n",
       "      <td>...</td>\n",
       "      <td>...</td>\n",
       "      <td>...</td>\n",
       "      <td>...</td>\n",
       "      <td>...</td>\n",
       "    </tr>\n",
       "    <tr>\n",
       "      <th>4</th>\n",
       "      <td>0.2248</td>\n",
       "      <td>7.6691</td>\n",
       "      <td>0.1369</td>\n",
       "      <td>1.6566</td>\n",
       "      <td>-0.2301</td>\n",
       "      <td>1950.0000</td>\n",
       "      <td>1765.0116</td>\n",
       "      <td>0.0915</td>\n",
       "    </tr>\n",
       "    <tr>\n",
       "      <th>3</th>\n",
       "      <td>0.0920</td>\n",
       "      <td>22.4306</td>\n",
       "      <td>0.6522</td>\n",
       "      <td>3.3707</td>\n",
       "      <td>0.0916</td>\n",
       "      <td>1950.0000</td>\n",
       "      <td>1950.0000</td>\n",
       "      <td>9700.0000</td>\n",
       "    </tr>\n",
       "    <tr>\n",
       "      <th>2</th>\n",
       "      <td>0.0880</td>\n",
       "      <td>1.9945</td>\n",
       "      <td>0.0354</td>\n",
       "      <td>0.4317</td>\n",
       "      <td>0.0501</td>\n",
       "      <td>1950.0000</td>\n",
       "      <td>1950.0000</td>\n",
       "      <td>0.1589</td>\n",
       "    </tr>\n",
       "    <tr>\n",
       "      <th>1</th>\n",
       "      <td>0.0736</td>\n",
       "      <td>0.5881</td>\n",
       "      <td>0.0116</td>\n",
       "      <td>0.1206</td>\n",
       "      <td>0.0077</td>\n",
       "      <td>46.6488</td>\n",
       "      <td>124.4472</td>\n",
       "      <td>1.5966</td>\n",
       "    </tr>\n",
       "    <tr>\n",
       "      <th>0</th>\n",
       "      <td>0.0724</td>\n",
       "      <td>5.8481</td>\n",
       "      <td>0.0959</td>\n",
       "      <td>1.3131</td>\n",
       "      <td>-0.1712</td>\n",
       "      <td>1950.0000</td>\n",
       "      <td>1765.0116</td>\n",
       "      <td>0.0915</td>\n",
       "    </tr>\n",
       "  </tbody>\n",
       "</table>\n",
       "<p>7755 rows × 8 columns</p>\n",
       "</div>"
      ],
      "text/plain": [
       "      DEPTH_WMSF     HCGR     HFK    HTHO    HURA       IDPH       IMPH  \\\n",
       "8139    273.9120  53.0798  1.5359  8.0245  2.2557     1.2995     1.0868   \n",
       "8138    273.7984  59.1977  1.5576  9.8627  2.7544     1.5905     1.3903   \n",
       "8137    273.7840  56.5277  1.4407  9.6910  2.1578     1.2697     1.2614   \n",
       "8136    273.7828  22.3937  0.4726  4.4135  1.1880     1.0736     1.1140   \n",
       "8135    273.7596  51.6912  1.5067  7.7503  2.4325     1.3005     1.1050   \n",
       "...          ...      ...     ...     ...     ...        ...        ...   \n",
       "4         0.2248   7.6691  0.1369  1.6566 -0.2301  1950.0000  1765.0116   \n",
       "3         0.0920  22.4306  0.6522  3.3707  0.0916  1950.0000  1950.0000   \n",
       "2         0.0880   1.9945  0.0354  0.4317  0.0501  1950.0000  1950.0000   \n",
       "1         0.0736   0.5881  0.0116  0.1206  0.0077    46.6488   124.4472   \n",
       "0         0.0724   5.8481  0.0959  1.3131 -0.1712  1950.0000  1765.0116   \n",
       "\n",
       "           SFLU  \n",
       "8139     0.6589  \n",
       "8138     0.6885  \n",
       "8137     1.1236  \n",
       "8136     0.6077  \n",
       "8135     0.6512  \n",
       "...         ...  \n",
       "4        0.0915  \n",
       "3     9700.0000  \n",
       "2        0.1589  \n",
       "1        1.5966  \n",
       "0        0.0915  \n",
       "\n",
       "[7755 rows x 8 columns]"
      ]
     },
     "execution_count": 34,
     "metadata": {},
     "output_type": "execute_result"
    }
   ],
   "source": [
    "X_train_num"
   ]
  },
  {
   "cell_type": "markdown",
   "metadata": {},
   "source": [
    "## Correlation analysis\n",
    "Several groups of strongly correlated features were discovered through heatmap\n",
    "- HCGR, HFK, HTHO\n",
    "- IDPH, SFLU"
   ]
  },
  {
   "cell_type": "code",
   "execution_count": 78,
   "metadata": {},
   "outputs": [
    {
     "data": {
      "image/png": "[encoded data removed]",
      "text/plain": [
       "<Figure size 800x800 with 9 Axes>"
      ]
     },
     "metadata": {},
     "output_type": "display_data"
    }
   ],
   "source": [
    "X_train[num_features].hist(figsize=(8,8));"
   ]
  },
  {
   "cell_type": "code",
   "execution_count": 36,
   "metadata": {},
   "outputs": [
    {
     "data": {
      "image/png": "[encoded data removed]",
      "text/plain": [
       "<Figure size 600x500 with 2 Axes>"
      ]
     },
     "metadata": {},
     "output_type": "display_data"
    }
   ],
   "source": [
    "# heatmap\n",
    "corr = X_train_num.corr()\n",
    "plt.figure(figsize=(6, 5))\n",
    "sns.heatmap(corr, annot=True, fmt=\".2f\", cmap='coolwarm')\n",
    "plt.show()"
   ]
  },
  {
   "cell_type": "code",
   "execution_count": 40,
   "metadata": {},
   "outputs": [],
   "source": [
    "# drop highly correlated features\n",
    "X_train_num_dropped = X_train_num.drop(['DEPTH_WMSF', 'HFK', 'HTHO', 'IDPH'], axis=1)"
   ]
  },
  {
   "cell_type": "markdown",
   "metadata": {},
   "source": [
    "DEPTH_WMSF should be removed since depth is a metric for splitting a dataset."
   ]
  },
  {
   "cell_type": "code",
   "execution_count": 41,
   "metadata": {},
   "outputs": [
    {
     "data": {
      "image/png": "[encoded data removed]",
      "text/plain": [
       "<Figure size 1100x800 with 16 Axes>"
      ]
     },
     "metadata": {},
     "output_type": "display_data"
    }
   ],
   "source": [
    "pd.plotting.scatter_matrix(X_train_num_dropped, figsize=(11,8));"
   ]
  },
  {
   "cell_type": "code",
   "execution_count": 42,
   "metadata": {},
   "outputs": [
    {
     "name": "stderr",
     "output_type": "stream",
     "text": [
      "/home/kagami/anaconda3/envs/dsml4p/lib/python3.11/site-packages/pandas/core/internals/blocks.py:351: RuntimeWarning: invalid value encountered in log\n",
      "  result = func(self.values, **kwargs)\n"
     ]
    },
    {
     "data": {
      "image/png": "[encoded data removed]",
      "text/plain": [
       "<Figure size 1100x800 with 16 Axes>"
      ]
     },
     "metadata": {},
     "output_type": "display_data"
    }
   ],
   "source": [
    "# log transform\n",
    "pd.plotting.scatter_matrix(np.log(X_train_num_dropped), figsize=(11,8));"
   ]
  },
  {
   "cell_type": "markdown",
   "metadata": {},
   "source": [
    "## Non-zero transform\n",
    "Some physical quantities theoretically do not have negative numbers."
   ]
  },
  {
   "cell_type": "code",
   "execution_count": 43,
   "metadata": {},
   "outputs": [
    {
     "data": {
      "text/html": [
       "<div>\n",
       "<style scoped>\n",
       "    .dataframe tbody tr th:only-of-type {\n",
       "        vertical-align: middle;\n",
       "    }\n",
       "\n",
       "    .dataframe tbody tr th {\n",
       "        vertical-align: top;\n",
       "    }\n",
       "\n",
       "    .dataframe thead th {\n",
       "        text-align: right;\n",
       "    }\n",
       "</style>\n",
       "<table border=\"1\" class=\"dataframe\">\n",
       "  <thead>\n",
       "    <tr style=\"text-align: right;\">\n",
       "      <th></th>\n",
       "      <th>HCGR</th>\n",
       "      <th>HURA</th>\n",
       "      <th>IMPH</th>\n",
       "      <th>SFLU</th>\n",
       "    </tr>\n",
       "  </thead>\n",
       "  <tbody>\n",
       "    <tr>\n",
       "      <th>8139</th>\n",
       "      <td>53.0798</td>\n",
       "      <td>2.2557</td>\n",
       "      <td>1.0868</td>\n",
       "      <td>0.6589</td>\n",
       "    </tr>\n",
       "    <tr>\n",
       "      <th>8138</th>\n",
       "      <td>59.1977</td>\n",
       "      <td>2.7544</td>\n",
       "      <td>1.3903</td>\n",
       "      <td>0.6885</td>\n",
       "    </tr>\n",
       "    <tr>\n",
       "      <th>8137</th>\n",
       "      <td>56.5277</td>\n",
       "      <td>2.1578</td>\n",
       "      <td>1.2614</td>\n",
       "      <td>1.1236</td>\n",
       "    </tr>\n",
       "    <tr>\n",
       "      <th>8136</th>\n",
       "      <td>22.3937</td>\n",
       "      <td>1.1880</td>\n",
       "      <td>1.1140</td>\n",
       "      <td>0.6077</td>\n",
       "    </tr>\n",
       "    <tr>\n",
       "      <th>8135</th>\n",
       "      <td>51.6912</td>\n",
       "      <td>2.4325</td>\n",
       "      <td>1.1050</td>\n",
       "      <td>0.6512</td>\n",
       "    </tr>\n",
       "    <tr>\n",
       "      <th>...</th>\n",
       "      <td>...</td>\n",
       "      <td>...</td>\n",
       "      <td>...</td>\n",
       "      <td>...</td>\n",
       "    </tr>\n",
       "    <tr>\n",
       "      <th>4</th>\n",
       "      <td>7.6691</td>\n",
       "      <td>-0.2301</td>\n",
       "      <td>1765.0116</td>\n",
       "      <td>0.0915</td>\n",
       "    </tr>\n",
       "    <tr>\n",
       "      <th>3</th>\n",
       "      <td>22.4306</td>\n",
       "      <td>0.0916</td>\n",
       "      <td>1950.0000</td>\n",
       "      <td>9700.0000</td>\n",
       "    </tr>\n",
       "    <tr>\n",
       "      <th>2</th>\n",
       "      <td>1.9945</td>\n",
       "      <td>0.0501</td>\n",
       "      <td>1950.0000</td>\n",
       "      <td>0.1589</td>\n",
       "    </tr>\n",
       "    <tr>\n",
       "      <th>1</th>\n",
       "      <td>0.5881</td>\n",
       "      <td>0.0077</td>\n",
       "      <td>124.4472</td>\n",
       "      <td>1.5966</td>\n",
       "    </tr>\n",
       "    <tr>\n",
       "      <th>0</th>\n",
       "      <td>5.8481</td>\n",
       "      <td>-0.1712</td>\n",
       "      <td>1765.0116</td>\n",
       "      <td>0.0915</td>\n",
       "    </tr>\n",
       "  </tbody>\n",
       "</table>\n",
       "<p>7755 rows × 4 columns</p>\n",
       "</div>"
      ],
      "text/plain": [
       "         HCGR    HURA       IMPH       SFLU\n",
       "8139  53.0798  2.2557     1.0868     0.6589\n",
       "8138  59.1977  2.7544     1.3903     0.6885\n",
       "8137  56.5277  2.1578     1.2614     1.1236\n",
       "8136  22.3937  1.1880     1.1140     0.6077\n",
       "8135  51.6912  2.4325     1.1050     0.6512\n",
       "...       ...     ...        ...        ...\n",
       "4      7.6691 -0.2301  1765.0116     0.0915\n",
       "3     22.4306  0.0916  1950.0000  9700.0000\n",
       "2      1.9945  0.0501  1950.0000     0.1589\n",
       "1      0.5881  0.0077   124.4472     1.5966\n",
       "0      5.8481 -0.1712  1765.0116     0.0915\n",
       "\n",
       "[7755 rows x 4 columns]"
      ]
     },
     "execution_count": 43,
     "metadata": {},
     "output_type": "execute_result"
    }
   ],
   "source": [
    "X_train_num_dropped"
   ]
  },
  {
   "cell_type": "code",
   "execution_count": 44,
   "metadata": {},
   "outputs": [
    {
     "data": {
      "text/plain": [
       "Index(['HCGR', 'HURA', 'IMPH', 'SFLU'], dtype='object')"
      ]
     },
     "execution_count": 44,
     "metadata": {},
     "output_type": "execute_result"
    }
   ],
   "source": [
    "X_train_num_dropped.columns"
   ]
  },
  {
   "cell_type": "code",
   "execution_count": 45,
   "metadata": {},
   "outputs": [],
   "source": [
    "# non-zero transform\n",
    "clf_zero = ZeroTransform()\n",
    "X_train_num_nonzero = pd.DataFrame(clf_zero.fit_transform(X_train_num_dropped), columns=X_train_num_dropped.columns)"
   ]
  },
  {
   "cell_type": "code",
   "execution_count": 46,
   "metadata": {},
   "outputs": [
    {
     "data": {
      "text/html": [
       "<div>\n",
       "<style scoped>\n",
       "    .dataframe tbody tr th:only-of-type {\n",
       "        vertical-align: middle;\n",
       "    }\n",
       "\n",
       "    .dataframe tbody tr th {\n",
       "        vertical-align: top;\n",
       "    }\n",
       "\n",
       "    .dataframe thead th {\n",
       "        text-align: right;\n",
       "    }\n",
       "</style>\n",
       "<table border=\"1\" class=\"dataframe\">\n",
       "  <thead>\n",
       "    <tr style=\"text-align: right;\">\n",
       "      <th></th>\n",
       "      <th>HCGR</th>\n",
       "      <th>HURA</th>\n",
       "      <th>IMPH</th>\n",
       "      <th>SFLU</th>\n",
       "    </tr>\n",
       "  </thead>\n",
       "  <tbody>\n",
       "    <tr>\n",
       "      <th>0</th>\n",
       "      <td>53.0798</td>\n",
       "      <td>2.2557</td>\n",
       "      <td>1.0868</td>\n",
       "      <td>0.6589</td>\n",
       "    </tr>\n",
       "    <tr>\n",
       "      <th>1</th>\n",
       "      <td>59.1977</td>\n",
       "      <td>2.7544</td>\n",
       "      <td>1.3903</td>\n",
       "      <td>0.6885</td>\n",
       "    </tr>\n",
       "    <tr>\n",
       "      <th>2</th>\n",
       "      <td>56.5277</td>\n",
       "      <td>2.1578</td>\n",
       "      <td>1.2614</td>\n",
       "      <td>1.1236</td>\n",
       "    </tr>\n",
       "    <tr>\n",
       "      <th>3</th>\n",
       "      <td>22.3937</td>\n",
       "      <td>1.1880</td>\n",
       "      <td>1.1140</td>\n",
       "      <td>0.6077</td>\n",
       "    </tr>\n",
       "    <tr>\n",
       "      <th>4</th>\n",
       "      <td>51.6912</td>\n",
       "      <td>2.4325</td>\n",
       "      <td>1.1050</td>\n",
       "      <td>0.6512</td>\n",
       "    </tr>\n",
       "    <tr>\n",
       "      <th>...</th>\n",
       "      <td>...</td>\n",
       "      <td>...</td>\n",
       "      <td>...</td>\n",
       "      <td>...</td>\n",
       "    </tr>\n",
       "    <tr>\n",
       "      <th>7750</th>\n",
       "      <td>7.6691</td>\n",
       "      <td>0.0000</td>\n",
       "      <td>1765.0116</td>\n",
       "      <td>0.0915</td>\n",
       "    </tr>\n",
       "    <tr>\n",
       "      <th>7751</th>\n",
       "      <td>22.4306</td>\n",
       "      <td>0.0916</td>\n",
       "      <td>1950.0000</td>\n",
       "      <td>9700.0000</td>\n",
       "    </tr>\n",
       "    <tr>\n",
       "      <th>7752</th>\n",
       "      <td>1.9945</td>\n",
       "      <td>0.0501</td>\n",
       "      <td>1950.0000</td>\n",
       "      <td>0.1589</td>\n",
       "    </tr>\n",
       "    <tr>\n",
       "      <th>7753</th>\n",
       "      <td>0.5881</td>\n",
       "      <td>0.0077</td>\n",
       "      <td>124.4472</td>\n",
       "      <td>1.5966</td>\n",
       "    </tr>\n",
       "    <tr>\n",
       "      <th>7754</th>\n",
       "      <td>5.8481</td>\n",
       "      <td>0.0000</td>\n",
       "      <td>1765.0116</td>\n",
       "      <td>0.0915</td>\n",
       "    </tr>\n",
       "  </tbody>\n",
       "</table>\n",
       "<p>7755 rows × 4 columns</p>\n",
       "</div>"
      ],
      "text/plain": [
       "         HCGR    HURA       IMPH       SFLU\n",
       "0     53.0798  2.2557     1.0868     0.6589\n",
       "1     59.1977  2.7544     1.3903     0.6885\n",
       "2     56.5277  2.1578     1.2614     1.1236\n",
       "3     22.3937  1.1880     1.1140     0.6077\n",
       "4     51.6912  2.4325     1.1050     0.6512\n",
       "...       ...     ...        ...        ...\n",
       "7750   7.6691  0.0000  1765.0116     0.0915\n",
       "7751  22.4306  0.0916  1950.0000  9700.0000\n",
       "7752   1.9945  0.0501  1950.0000     0.1589\n",
       "7753   0.5881  0.0077   124.4472     1.5966\n",
       "7754   5.8481  0.0000  1765.0116     0.0915\n",
       "\n",
       "[7755 rows x 4 columns]"
      ]
     },
     "execution_count": 46,
     "metadata": {},
     "output_type": "execute_result"
    }
   ],
   "source": [
    "X_train_num_nonzero"
   ]
  },
  {
   "cell_type": "markdown",
   "metadata": {},
   "source": [
    "## Log Transform\n",
    "Through observation, some variables have better distribution after log change.\n"
   ]
  },
  {
   "cell_type": "code",
   "execution_count": 47,
   "metadata": {},
   "outputs": [],
   "source": [
    "to_log = ['IMPH', 'SFLU']\n",
    "clf_log = LogTransformer(seed=1e-5)\n",
    "X_train_num_logged = X_train_num_nonzero.copy()\n",
    "X_train_num_logged[to_log] = clf_log.transform(X_train_num_nonzero[to_log])"
   ]
  },
  {
   "cell_type": "code",
   "execution_count": 48,
   "metadata": {},
   "outputs": [
    {
     "data": {
      "text/html": [
       "<div>\n",
       "<style scoped>\n",
       "    .dataframe tbody tr th:only-of-type {\n",
       "        vertical-align: middle;\n",
       "    }\n",
       "\n",
       "    .dataframe tbody tr th {\n",
       "        vertical-align: top;\n",
       "    }\n",
       "\n",
       "    .dataframe thead th {\n",
       "        text-align: right;\n",
       "    }\n",
       "</style>\n",
       "<table border=\"1\" class=\"dataframe\">\n",
       "  <thead>\n",
       "    <tr style=\"text-align: right;\">\n",
       "      <th></th>\n",
       "      <th>HCGR</th>\n",
       "      <th>HURA</th>\n",
       "      <th>IMPH</th>\n",
       "      <th>SFLU</th>\n",
       "    </tr>\n",
       "  </thead>\n",
       "  <tbody>\n",
       "    <tr>\n",
       "      <th>0</th>\n",
       "      <td>53.0798</td>\n",
       "      <td>2.2557</td>\n",
       "      <td>1.0868</td>\n",
       "      <td>0.6589</td>\n",
       "    </tr>\n",
       "    <tr>\n",
       "      <th>1</th>\n",
       "      <td>59.1977</td>\n",
       "      <td>2.7544</td>\n",
       "      <td>1.3903</td>\n",
       "      <td>0.6885</td>\n",
       "    </tr>\n",
       "    <tr>\n",
       "      <th>2</th>\n",
       "      <td>56.5277</td>\n",
       "      <td>2.1578</td>\n",
       "      <td>1.2614</td>\n",
       "      <td>1.1236</td>\n",
       "    </tr>\n",
       "    <tr>\n",
       "      <th>3</th>\n",
       "      <td>22.3937</td>\n",
       "      <td>1.1880</td>\n",
       "      <td>1.1140</td>\n",
       "      <td>0.6077</td>\n",
       "    </tr>\n",
       "    <tr>\n",
       "      <th>4</th>\n",
       "      <td>51.6912</td>\n",
       "      <td>2.4325</td>\n",
       "      <td>1.1050</td>\n",
       "      <td>0.6512</td>\n",
       "    </tr>\n",
       "  </tbody>\n",
       "</table>\n",
       "</div>"
      ],
      "text/plain": [
       "      HCGR    HURA    IMPH    SFLU\n",
       "0  53.0798  2.2557  1.0868  0.6589\n",
       "1  59.1977  2.7544  1.3903  0.6885\n",
       "2  56.5277  2.1578  1.2614  1.1236\n",
       "3  22.3937  1.1880  1.1140  0.6077\n",
       "4  51.6912  2.4325  1.1050  0.6512"
      ]
     },
     "execution_count": 48,
     "metadata": {},
     "output_type": "execute_result"
    }
   ],
   "source": [
    "X_train_num_nonzero.head()"
   ]
  },
  {
   "cell_type": "code",
   "execution_count": 49,
   "metadata": {},
   "outputs": [
    {
     "data": {
      "text/html": [
       "<div>\n",
       "<style scoped>\n",
       "    .dataframe tbody tr th:only-of-type {\n",
       "        vertical-align: middle;\n",
       "    }\n",
       "\n",
       "    .dataframe tbody tr th {\n",
       "        vertical-align: top;\n",
       "    }\n",
       "\n",
       "    .dataframe thead th {\n",
       "        text-align: right;\n",
       "    }\n",
       "</style>\n",
       "<table border=\"1\" class=\"dataframe\">\n",
       "  <thead>\n",
       "    <tr style=\"text-align: right;\">\n",
       "      <th></th>\n",
       "      <th>HCGR</th>\n",
       "      <th>HURA</th>\n",
       "      <th>IMPH</th>\n",
       "      <th>SFLU</th>\n",
       "    </tr>\n",
       "  </thead>\n",
       "  <tbody>\n",
       "    <tr>\n",
       "      <th>0</th>\n",
       "      <td>53.0798</td>\n",
       "      <td>2.2557</td>\n",
       "      <td>0.083247</td>\n",
       "      <td>-0.417168</td>\n",
       "    </tr>\n",
       "    <tr>\n",
       "      <th>1</th>\n",
       "      <td>59.1977</td>\n",
       "      <td>2.7544</td>\n",
       "      <td>0.329527</td>\n",
       "      <td>-0.373225</td>\n",
       "    </tr>\n",
       "    <tr>\n",
       "      <th>2</th>\n",
       "      <td>56.5277</td>\n",
       "      <td>2.1578</td>\n",
       "      <td>0.232230</td>\n",
       "      <td>0.116547</td>\n",
       "    </tr>\n",
       "    <tr>\n",
       "      <th>3</th>\n",
       "      <td>22.3937</td>\n",
       "      <td>1.1880</td>\n",
       "      <td>0.107966</td>\n",
       "      <td>-0.498057</td>\n",
       "    </tr>\n",
       "    <tr>\n",
       "      <th>4</th>\n",
       "      <td>51.6912</td>\n",
       "      <td>2.4325</td>\n",
       "      <td>0.099854</td>\n",
       "      <td>-0.428923</td>\n",
       "    </tr>\n",
       "  </tbody>\n",
       "</table>\n",
       "</div>"
      ],
      "text/plain": [
       "      HCGR    HURA      IMPH      SFLU\n",
       "0  53.0798  2.2557  0.083247 -0.417168\n",
       "1  59.1977  2.7544  0.329527 -0.373225\n",
       "2  56.5277  2.1578  0.232230  0.116547\n",
       "3  22.3937  1.1880  0.107966 -0.498057\n",
       "4  51.6912  2.4325  0.099854 -0.428923"
      ]
     },
     "execution_count": 49,
     "metadata": {},
     "output_type": "execute_result"
    }
   ],
   "source": [
    "X_train_num_logged.head()"
   ]
  },
  {
   "cell_type": "markdown",
   "metadata": {},
   "source": [
    "## Outliers detection\n",
    "\n",
    "Through boxplot, it was found that there were no obvious outliers. "
   ]
  },
  {
   "cell_type": "code",
   "execution_count": 54,
   "metadata": {},
   "outputs": [
    {
     "data": {
      "image/png": "[encoded data removed]",
      "text/plain": [
       "<Figure size 600x200 with 1 Axes>"
      ]
     },
     "metadata": {},
     "output_type": "display_data"
    },
    {
     "data": {
      "image/png": "[encoded data removed]",
      "text/plain": [
       "<Figure size 600x200 with 1 Axes>"
      ]
     },
     "metadata": {},
     "output_type": "display_data"
    },
    {
     "data": {
      "image/png": "[encoded data removed]",
      "text/plain": [
       "<Figure size 600x200 with 1 Axes>"
      ]
     },
     "metadata": {},
     "output_type": "display_data"
    },
    {
     "data": {
      "image/png": "[encoded data removed]",
      "text/plain": [
       "<Figure size 600x200 with 1 Axes>"
      ]
     },
     "metadata": {},
     "output_type": "display_data"
    },
    {
     "data": {
      "image/png": "[encoded data removed]",
      "text/plain": [
       "<Figure size 600x200 with 1 Axes>"
      ]
     },
     "metadata": {},
     "output_type": "display_data"
    },
    {
     "data": {
      "image/png": "[encoded data removed]",
      "text/plain": [
       "<Figure size 600x200 with 1 Axes>"
      ]
     },
     "metadata": {},
     "output_type": "display_data"
    },
    {
     "data": {
      "image/png": "[encoded data removed]",
      "text/plain": [
       "<Figure size 600x200 with 1 Axes>"
      ]
     },
     "metadata": {},
     "output_type": "display_data"
    },
    {
     "data": {
      "image/png": "[encoded data removed]",
      "text/plain": [
       "<Figure size 600x200 with 1 Axes>"
      ]
     },
     "metadata": {},
     "output_type": "display_data"
    }
   ],
   "source": [
    "# Find outliers in numerical features\n",
    "for col in X_train_num:\n",
    "    plt.figure(figsize=(6, 2))  \n",
    "    sns.boxplot(x=X_train[col])"
   ]
  },
  {
   "cell_type": "markdown",
   "metadata": {},
   "source": []
  },
  {
   "cell_type": "markdown",
   "metadata": {},
   "source": [
    "IDPH, SFLU"
   ]
  },
  {
   "cell_type": "code",
   "execution_count": 55,
   "metadata": {},
   "outputs": [
    {
     "data": {
      "text/plain": [
       "8139       1.2995\n",
       "8138       1.5905\n",
       "8137       1.2697\n",
       "8136       1.0736\n",
       "8135       1.3005\n",
       "          ...    \n",
       "4       1950.0000\n",
       "3       1950.0000\n",
       "2       1950.0000\n",
       "1         46.6488\n",
       "0       1950.0000\n",
       "Name: IDPH, Length: 7755, dtype: float64"
      ]
     },
     "execution_count": 55,
     "metadata": {},
     "output_type": "execute_result"
    }
   ],
   "source": [
    "X_train_num['IDPH']"
   ]
  },
  {
   "cell_type": "code",
   "execution_count": 96,
   "metadata": {},
   "outputs": [
    {
     "data": {
      "text/plain": [
       "0          0.0915\n",
       "1          1.5966\n",
       "2          0.1589\n",
       "3       9700.0000\n",
       "4          0.0915\n",
       "          ...    \n",
       "8136       0.6077\n",
       "8137       1.1236\n",
       "8138       0.6885\n",
       "8139       0.6589\n",
       "8140       0.6285\n",
       "Name: SFLU, Length: 7756, dtype: float64"
      ]
     },
     "execution_count": 96,
     "metadata": {},
     "output_type": "execute_result"
    }
   ],
   "source": [
    "X_train_num['SFLU']"
   ]
  },
  {
   "cell_type": "code",
   "execution_count": 56,
   "metadata": {},
   "outputs": [
    {
     "name": "stderr",
     "output_type": "stream",
     "text": [
      "/home/kagami/anaconda3/envs/dsml4p/lib/python3.11/site-packages/sklearn/base.py:409: UserWarning: X does not have valid feature names, but IsolationForest was fitted with feature names\n",
      "  warnings.warn(\n"
     ]
    }
   ],
   "source": [
    "from sklearn.ensemble import IsolationForest\n",
    "\n",
    "clf = IsolationForest(contamination=0.01)\n",
    "\n",
    "clf.fit(X_train_num)\n",
    "\n",
    "outlier_pred = clf.predict(X_train_num)"
   ]
  },
  {
   "cell_type": "code",
   "execution_count": 57,
   "metadata": {},
   "outputs": [
    {
     "data": {
      "text/plain": [
       "array([1, 1, 1, ..., 1, 1, 1])"
      ]
     },
     "execution_count": 57,
     "metadata": {},
     "output_type": "execute_result"
    }
   ],
   "source": [
    "outlier_pred"
   ]
  },
  {
   "cell_type": "code",
   "execution_count": null,
   "metadata": {},
   "outputs": [],
   "source": [
    "X_train_no_outliers = X_train[num_features][outlier_pred == 1]"
   ]
  },
  {
   "cell_type": "code",
   "execution_count": 84,
   "metadata": {},
   "outputs": [
    {
     "data": {
      "text/html": [
       "<div>\n",
       "<style scoped>\n",
       "    .dataframe tbody tr th:only-of-type {\n",
       "        vertical-align: middle;\n",
       "    }\n",
       "\n",
       "    .dataframe tbody tr th {\n",
       "        vertical-align: top;\n",
       "    }\n",
       "\n",
       "    .dataframe thead th {\n",
       "        text-align: right;\n",
       "    }\n",
       "</style>\n",
       "<table border=\"1\" class=\"dataframe\">\n",
       "  <thead>\n",
       "    <tr style=\"text-align: right;\">\n",
       "      <th></th>\n",
       "      <th>HCGR</th>\n",
       "      <th>HURA</th>\n",
       "      <th>IMPH</th>\n",
       "      <th>SFLU</th>\n",
       "    </tr>\n",
       "  </thead>\n",
       "  <tbody>\n",
       "    <tr>\n",
       "      <th>0</th>\n",
       "      <td>5.8481</td>\n",
       "      <td>0.0000</td>\n",
       "      <td>7.475913</td>\n",
       "      <td>-2.391307</td>\n",
       "    </tr>\n",
       "    <tr>\n",
       "      <th>1</th>\n",
       "      <td>0.5881</td>\n",
       "      <td>0.0077</td>\n",
       "      <td>4.823882</td>\n",
       "      <td>0.467883</td>\n",
       "    </tr>\n",
       "    <tr>\n",
       "      <th>2</th>\n",
       "      <td>1.9945</td>\n",
       "      <td>0.0501</td>\n",
       "      <td>7.575585</td>\n",
       "      <td>-1.839417</td>\n",
       "    </tr>\n",
       "    <tr>\n",
       "      <th>3</th>\n",
       "      <td>22.4306</td>\n",
       "      <td>0.0916</td>\n",
       "      <td>7.575585</td>\n",
       "      <td>9.179881</td>\n",
       "    </tr>\n",
       "    <tr>\n",
       "      <th>4</th>\n",
       "      <td>7.6691</td>\n",
       "      <td>0.0000</td>\n",
       "      <td>7.475913</td>\n",
       "      <td>-2.391307</td>\n",
       "    </tr>\n",
       "    <tr>\n",
       "      <th>...</th>\n",
       "      <td>...</td>\n",
       "      <td>...</td>\n",
       "      <td>...</td>\n",
       "      <td>...</td>\n",
       "    </tr>\n",
       "    <tr>\n",
       "      <th>7751</th>\n",
       "      <td>22.3937</td>\n",
       "      <td>1.1880</td>\n",
       "      <td>0.107966</td>\n",
       "      <td>-0.498057</td>\n",
       "    </tr>\n",
       "    <tr>\n",
       "      <th>7752</th>\n",
       "      <td>56.5277</td>\n",
       "      <td>2.1578</td>\n",
       "      <td>0.232230</td>\n",
       "      <td>0.116547</td>\n",
       "    </tr>\n",
       "    <tr>\n",
       "      <th>7753</th>\n",
       "      <td>59.1977</td>\n",
       "      <td>2.7544</td>\n",
       "      <td>0.329527</td>\n",
       "      <td>-0.373225</td>\n",
       "    </tr>\n",
       "    <tr>\n",
       "      <th>7754</th>\n",
       "      <td>53.0798</td>\n",
       "      <td>2.2557</td>\n",
       "      <td>0.083247</td>\n",
       "      <td>-0.417168</td>\n",
       "    </tr>\n",
       "    <tr>\n",
       "      <th>7755</th>\n",
       "      <td>22.2440</td>\n",
       "      <td>1.2078</td>\n",
       "      <td>0.100307</td>\n",
       "      <td>-0.464403</td>\n",
       "    </tr>\n",
       "  </tbody>\n",
       "</table>\n",
       "<p>7756 rows × 4 columns</p>\n",
       "</div>"
      ],
      "text/plain": [
       "         HCGR    HURA      IMPH      SFLU\n",
       "0      5.8481  0.0000  7.475913 -2.391307\n",
       "1      0.5881  0.0077  4.823882  0.467883\n",
       "2      1.9945  0.0501  7.575585 -1.839417\n",
       "3     22.4306  0.0916  7.575585  9.179881\n",
       "4      7.6691  0.0000  7.475913 -2.391307\n",
       "...       ...     ...       ...       ...\n",
       "7751  22.3937  1.1880  0.107966 -0.498057\n",
       "7752  56.5277  2.1578  0.232230  0.116547\n",
       "7753  59.1977  2.7544  0.329527 -0.373225\n",
       "7754  53.0798  2.2557  0.083247 -0.417168\n",
       "7755  22.2440  1.2078  0.100307 -0.464403\n",
       "\n",
       "[7756 rows x 4 columns]"
      ]
     },
     "execution_count": 84,
     "metadata": {},
     "output_type": "execute_result"
    }
   ],
   "source": [
    "X_train_num_logged"
   ]
  },
  {
   "cell_type": "markdown",
   "metadata": {},
   "source": [
    "## Category Data Analysis"
   ]
  },
  {
   "cell_type": "code",
   "execution_count": 79,
   "metadata": {},
   "outputs": [],
   "source": [
    "import sys\n",
    "sys.path.append(\"dsml4pe-2023-assessment-acse-wy1223/table.py\")\n",
    "from table import table"
   ]
  },
  {
   "cell_type": "code",
   "execution_count": 65,
   "metadata": {},
   "outputs": [
    {
     "data": {
      "text/plain": [
       "[0.133, 0.149, 0.237]"
      ]
     },
     "execution_count": 65,
     "metadata": {},
     "output_type": "execute_result"
    }
   ],
   "source": [
    "table['10B 0.2 2']"
   ]
  },
  {
   "cell_type": "code",
   "execution_count": 66,
   "metadata": {},
   "outputs": [
    {
     "data": {
      "text/html": [
       "<div>\n",
       "<style scoped>\n",
       "    .dataframe tbody tr th:only-of-type {\n",
       "        vertical-align: middle;\n",
       "    }\n",
       "\n",
       "    .dataframe tbody tr th {\n",
       "        vertical-align: top;\n",
       "    }\n",
       "\n",
       "    .dataframe thead th {\n",
       "        text-align: right;\n",
       "    }\n",
       "</style>\n",
       "<table border=\"1\" class=\"dataframe\">\n",
       "  <thead>\n",
       "    <tr style=\"text-align: right;\">\n",
       "      <th></th>\n",
       "      <th>DEPTH_WMSF</th>\n",
       "      <th>HCGR</th>\n",
       "      <th>HFK</th>\n",
       "      <th>HTHO</th>\n",
       "      <th>HURA</th>\n",
       "      <th>IDPH</th>\n",
       "      <th>IMPH</th>\n",
       "      <th>SFLU</th>\n",
       "      <th>munsel_color</th>\n",
       "    </tr>\n",
       "  </thead>\n",
       "  <tbody>\n",
       "    <tr>\n",
       "      <th>8139</th>\n",
       "      <td>273.9120</td>\n",
       "      <td>53.0798</td>\n",
       "      <td>1.5359</td>\n",
       "      <td>8.0245</td>\n",
       "      <td>2.2557</td>\n",
       "      <td>1.2995</td>\n",
       "      <td>1.0868</td>\n",
       "      <td>0.6589</td>\n",
       "      <td>5P 3 6</td>\n",
       "    </tr>\n",
       "    <tr>\n",
       "      <th>8138</th>\n",
       "      <td>273.7984</td>\n",
       "      <td>59.1977</td>\n",
       "      <td>1.5576</td>\n",
       "      <td>9.8627</td>\n",
       "      <td>2.7544</td>\n",
       "      <td>1.5905</td>\n",
       "      <td>1.3903</td>\n",
       "      <td>0.6885</td>\n",
       "      <td>2.5R 8 6</td>\n",
       "    </tr>\n",
       "    <tr>\n",
       "      <th>8137</th>\n",
       "      <td>273.7840</td>\n",
       "      <td>56.5277</td>\n",
       "      <td>1.4407</td>\n",
       "      <td>9.6910</td>\n",
       "      <td>2.1578</td>\n",
       "      <td>1.2697</td>\n",
       "      <td>1.2614</td>\n",
       "      <td>1.1236</td>\n",
       "      <td>10B 8 12</td>\n",
       "    </tr>\n",
       "    <tr>\n",
       "      <th>8136</th>\n",
       "      <td>273.7828</td>\n",
       "      <td>22.3937</td>\n",
       "      <td>0.4726</td>\n",
       "      <td>4.4135</td>\n",
       "      <td>1.1880</td>\n",
       "      <td>1.0736</td>\n",
       "      <td>1.1140</td>\n",
       "      <td>0.6077</td>\n",
       "      <td>5P 3 6</td>\n",
       "    </tr>\n",
       "    <tr>\n",
       "      <th>8135</th>\n",
       "      <td>273.7596</td>\n",
       "      <td>51.6912</td>\n",
       "      <td>1.5067</td>\n",
       "      <td>7.7503</td>\n",
       "      <td>2.4325</td>\n",
       "      <td>1.3005</td>\n",
       "      <td>1.1050</td>\n",
       "      <td>0.6512</td>\n",
       "      <td>5P 3 6</td>\n",
       "    </tr>\n",
       "    <tr>\n",
       "      <th>...</th>\n",
       "      <td>...</td>\n",
       "      <td>...</td>\n",
       "      <td>...</td>\n",
       "      <td>...</td>\n",
       "      <td>...</td>\n",
       "      <td>...</td>\n",
       "      <td>...</td>\n",
       "      <td>...</td>\n",
       "      <td>...</td>\n",
       "    </tr>\n",
       "    <tr>\n",
       "      <th>4</th>\n",
       "      <td>0.2248</td>\n",
       "      <td>7.6691</td>\n",
       "      <td>0.1369</td>\n",
       "      <td>1.6566</td>\n",
       "      <td>-0.2301</td>\n",
       "      <td>1950.0000</td>\n",
       "      <td>1765.0116</td>\n",
       "      <td>0.0915</td>\n",
       "      <td>10PB 0.2 18</td>\n",
       "    </tr>\n",
       "    <tr>\n",
       "      <th>3</th>\n",
       "      <td>0.0920</td>\n",
       "      <td>22.4306</td>\n",
       "      <td>0.6522</td>\n",
       "      <td>3.3707</td>\n",
       "      <td>0.0916</td>\n",
       "      <td>1950.0000</td>\n",
       "      <td>1950.0000</td>\n",
       "      <td>9700.0000</td>\n",
       "      <td>10PB 0.2 18</td>\n",
       "    </tr>\n",
       "    <tr>\n",
       "      <th>2</th>\n",
       "      <td>0.0880</td>\n",
       "      <td>1.9945</td>\n",
       "      <td>0.0354</td>\n",
       "      <td>0.4317</td>\n",
       "      <td>0.0501</td>\n",
       "      <td>1950.0000</td>\n",
       "      <td>1950.0000</td>\n",
       "      <td>0.1589</td>\n",
       "      <td>2.5YR 8 10</td>\n",
       "    </tr>\n",
       "    <tr>\n",
       "      <th>1</th>\n",
       "      <td>0.0736</td>\n",
       "      <td>0.5881</td>\n",
       "      <td>0.0116</td>\n",
       "      <td>0.1206</td>\n",
       "      <td>0.0077</td>\n",
       "      <td>46.6488</td>\n",
       "      <td>124.4472</td>\n",
       "      <td>1.5966</td>\n",
       "      <td>10PB 0.2 18</td>\n",
       "    </tr>\n",
       "    <tr>\n",
       "      <th>0</th>\n",
       "      <td>0.0724</td>\n",
       "      <td>5.8481</td>\n",
       "      <td>0.0959</td>\n",
       "      <td>1.3131</td>\n",
       "      <td>-0.1712</td>\n",
       "      <td>1950.0000</td>\n",
       "      <td>1765.0116</td>\n",
       "      <td>0.0915</td>\n",
       "      <td>5R 4 10</td>\n",
       "    </tr>\n",
       "  </tbody>\n",
       "</table>\n",
       "<p>7755 rows × 9 columns</p>\n",
       "</div>"
      ],
      "text/plain": [
       "      DEPTH_WMSF     HCGR     HFK    HTHO    HURA       IDPH       IMPH  \\\n",
       "8139    273.9120  53.0798  1.5359  8.0245  2.2557     1.2995     1.0868   \n",
       "8138    273.7984  59.1977  1.5576  9.8627  2.7544     1.5905     1.3903   \n",
       "8137    273.7840  56.5277  1.4407  9.6910  2.1578     1.2697     1.2614   \n",
       "8136    273.7828  22.3937  0.4726  4.4135  1.1880     1.0736     1.1140   \n",
       "8135    273.7596  51.6912  1.5067  7.7503  2.4325     1.3005     1.1050   \n",
       "...          ...      ...     ...     ...     ...        ...        ...   \n",
       "4         0.2248   7.6691  0.1369  1.6566 -0.2301  1950.0000  1765.0116   \n",
       "3         0.0920  22.4306  0.6522  3.3707  0.0916  1950.0000  1950.0000   \n",
       "2         0.0880   1.9945  0.0354  0.4317  0.0501  1950.0000  1950.0000   \n",
       "1         0.0736   0.5881  0.0116  0.1206  0.0077    46.6488   124.4472   \n",
       "0         0.0724   5.8481  0.0959  1.3131 -0.1712  1950.0000  1765.0116   \n",
       "\n",
       "           SFLU munsel_color  \n",
       "8139     0.6589       5P 3 6  \n",
       "8138     0.6885     2.5R 8 6  \n",
       "8137     1.1236     10B 8 12  \n",
       "8136     0.6077       5P 3 6  \n",
       "8135     0.6512       5P 3 6  \n",
       "...         ...          ...  \n",
       "4        0.0915  10PB 0.2 18  \n",
       "3     9700.0000  10PB 0.2 18  \n",
       "2        0.1589   2.5YR 8 10  \n",
       "1        1.5966  10PB 0.2 18  \n",
       "0        0.0915      5R 4 10  \n",
       "\n",
       "[7755 rows x 9 columns]"
      ]
     },
     "execution_count": 66,
     "metadata": {},
     "output_type": "execute_result"
    }
   ],
   "source": [
    "X_train"
   ]
  },
  {
   "cell_type": "code",
   "execution_count": 67,
   "metadata": {},
   "outputs": [
    {
     "data": {
      "text/plain": [
       "Index(['munsel_color'], dtype='object')"
      ]
     },
     "execution_count": 67,
     "metadata": {},
     "output_type": "execute_result"
    }
   ],
   "source": [
    "cat_features"
   ]
  },
  {
   "cell_type": "code",
   "execution_count": 68,
   "metadata": {},
   "outputs": [],
   "source": [
    "X_train_cat = X_train[cat_features]"
   ]
  },
  {
   "cell_type": "code",
   "execution_count": 69,
   "metadata": {},
   "outputs": [
    {
     "data": {
      "text/html": [
       "<div>\n",
       "<style scoped>\n",
       "    .dataframe tbody tr th:only-of-type {\n",
       "        vertical-align: middle;\n",
       "    }\n",
       "\n",
       "    .dataframe tbody tr th {\n",
       "        vertical-align: top;\n",
       "    }\n",
       "\n",
       "    .dataframe thead th {\n",
       "        text-align: right;\n",
       "    }\n",
       "</style>\n",
       "<table border=\"1\" class=\"dataframe\">\n",
       "  <thead>\n",
       "    <tr style=\"text-align: right;\">\n",
       "      <th></th>\n",
       "      <th>munsel_color</th>\n",
       "    </tr>\n",
       "  </thead>\n",
       "  <tbody>\n",
       "    <tr>\n",
       "      <th>8139</th>\n",
       "      <td>5P 3 6</td>\n",
       "    </tr>\n",
       "    <tr>\n",
       "      <th>8138</th>\n",
       "      <td>2.5R 8 6</td>\n",
       "    </tr>\n",
       "    <tr>\n",
       "      <th>8137</th>\n",
       "      <td>10B 8 12</td>\n",
       "    </tr>\n",
       "    <tr>\n",
       "      <th>8136</th>\n",
       "      <td>5P 3 6</td>\n",
       "    </tr>\n",
       "    <tr>\n",
       "      <th>8135</th>\n",
       "      <td>5P 3 6</td>\n",
       "    </tr>\n",
       "    <tr>\n",
       "      <th>...</th>\n",
       "      <td>...</td>\n",
       "    </tr>\n",
       "    <tr>\n",
       "      <th>4</th>\n",
       "      <td>10PB 0.2 18</td>\n",
       "    </tr>\n",
       "    <tr>\n",
       "      <th>3</th>\n",
       "      <td>10PB 0.2 18</td>\n",
       "    </tr>\n",
       "    <tr>\n",
       "      <th>2</th>\n",
       "      <td>2.5YR 8 10</td>\n",
       "    </tr>\n",
       "    <tr>\n",
       "      <th>1</th>\n",
       "      <td>10PB 0.2 18</td>\n",
       "    </tr>\n",
       "    <tr>\n",
       "      <th>0</th>\n",
       "      <td>5R 4 10</td>\n",
       "    </tr>\n",
       "  </tbody>\n",
       "</table>\n",
       "<p>7755 rows × 1 columns</p>\n",
       "</div>"
      ],
      "text/plain": [
       "     munsel_color\n",
       "8139       5P 3 6\n",
       "8138     2.5R 8 6\n",
       "8137     10B 8 12\n",
       "8136       5P 3 6\n",
       "8135       5P 3 6\n",
       "...           ...\n",
       "4     10PB 0.2 18\n",
       "3     10PB 0.2 18\n",
       "2      2.5YR 8 10\n",
       "1     10PB 0.2 18\n",
       "0         5R 4 10\n",
       "\n",
       "[7755 rows x 1 columns]"
      ]
     },
     "execution_count": 69,
     "metadata": {},
     "output_type": "execute_result"
    }
   ],
   "source": [
    "X_train_cat"
   ]
  },
  {
   "cell_type": "code",
   "execution_count": 88,
   "metadata": {},
   "outputs": [],
   "source": [
    "import pandas as pd\n",
    "from table import table\n",
    "def munsel_color_map(X_train_cat):\n",
    "    new_cols = X_train_cat['munsel_color'].apply(lambda x: pd.Series(table[x], index=['munsel_color_1', 'munsel_color_2', 'munsel_color_3']))\n",
    "\n",
    "    X_train_cat_mapped = pd.concat([X_train_cat, new_cols], axis=1)\n",
    "\n",
    "    return X_train_cat_mapped.drop('munsel_color', axis=1)"
   ]
  },
  {
   "cell_type": "code",
   "execution_count": 89,
   "metadata": {},
   "outputs": [],
   "source": [
    "clf_color = MunselColorMapper()\n",
    "X_train_cat_mapped = clf_color.fit_transform(X_train_cat)"
   ]
  },
  {
   "cell_type": "code",
   "execution_count": 90,
   "metadata": {},
   "outputs": [
    {
     "data": {
      "text/html": [
       "<div>\n",
       "<style scoped>\n",
       "    .dataframe tbody tr th:only-of-type {\n",
       "        vertical-align: middle;\n",
       "    }\n",
       "\n",
       "    .dataframe tbody tr th {\n",
       "        vertical-align: top;\n",
       "    }\n",
       "\n",
       "    .dataframe thead th {\n",
       "        text-align: right;\n",
       "    }\n",
       "</style>\n",
       "<table border=\"1\" class=\"dataframe\">\n",
       "  <thead>\n",
       "    <tr style=\"text-align: right;\">\n",
       "      <th></th>\n",
       "      <th>munsel_color_1</th>\n",
       "      <th>munsel_color_2</th>\n",
       "      <th>munsel_color_3</th>\n",
       "    </tr>\n",
       "  </thead>\n",
       "  <tbody>\n",
       "    <tr>\n",
       "      <th>8139</th>\n",
       "      <td>0.2870</td>\n",
       "      <td>0.2135</td>\n",
       "      <td>6.550</td>\n",
       "    </tr>\n",
       "    <tr>\n",
       "      <th>8138</th>\n",
       "      <td>0.3671</td>\n",
       "      <td>0.3175</td>\n",
       "      <td>59.100</td>\n",
       "    </tr>\n",
       "    <tr>\n",
       "      <th>8137</th>\n",
       "      <td>0.1900</td>\n",
       "      <td>0.2240</td>\n",
       "      <td>59.100</td>\n",
       "    </tr>\n",
       "    <tr>\n",
       "      <th>8136</th>\n",
       "      <td>0.2870</td>\n",
       "      <td>0.2135</td>\n",
       "      <td>6.550</td>\n",
       "    </tr>\n",
       "    <tr>\n",
       "      <th>8135</th>\n",
       "      <td>0.2870</td>\n",
       "      <td>0.2135</td>\n",
       "      <td>6.550</td>\n",
       "    </tr>\n",
       "    <tr>\n",
       "      <th>...</th>\n",
       "      <td>...</td>\n",
       "      <td>...</td>\n",
       "      <td>...</td>\n",
       "    </tr>\n",
       "    <tr>\n",
       "      <th>4</th>\n",
       "      <td>0.1930</td>\n",
       "      <td>0.0120</td>\n",
       "      <td>0.237</td>\n",
       "    </tr>\n",
       "    <tr>\n",
       "      <th>3</th>\n",
       "      <td>0.1930</td>\n",
       "      <td>0.0120</td>\n",
       "      <td>0.237</td>\n",
       "    </tr>\n",
       "    <tr>\n",
       "      <th>2</th>\n",
       "      <td>0.4552</td>\n",
       "      <td>0.3761</td>\n",
       "      <td>59.100</td>\n",
       "    </tr>\n",
       "    <tr>\n",
       "      <th>1</th>\n",
       "      <td>0.1930</td>\n",
       "      <td>0.0120</td>\n",
       "      <td>0.237</td>\n",
       "    </tr>\n",
       "    <tr>\n",
       "      <th>0</th>\n",
       "      <td>0.5043</td>\n",
       "      <td>0.3176</td>\n",
       "      <td>12.000</td>\n",
       "    </tr>\n",
       "  </tbody>\n",
       "</table>\n",
       "<p>7755 rows × 3 columns</p>\n",
       "</div>"
      ],
      "text/plain": [
       "      munsel_color_1  munsel_color_2  munsel_color_3\n",
       "8139          0.2870          0.2135           6.550\n",
       "8138          0.3671          0.3175          59.100\n",
       "8137          0.1900          0.2240          59.100\n",
       "8136          0.2870          0.2135           6.550\n",
       "8135          0.2870          0.2135           6.550\n",
       "...              ...             ...             ...\n",
       "4             0.1930          0.0120           0.237\n",
       "3             0.1930          0.0120           0.237\n",
       "2             0.4552          0.3761          59.100\n",
       "1             0.1930          0.0120           0.237\n",
       "0             0.5043          0.3176          12.000\n",
       "\n",
       "[7755 rows x 3 columns]"
      ]
     },
     "execution_count": 90,
     "metadata": {},
     "output_type": "execute_result"
    }
   ],
   "source": [
    "X_train_cat_mapped"
   ]
  },
  {
   "cell_type": "code",
   "execution_count": 91,
   "metadata": {},
   "outputs": [
    {
     "data": {
      "text/html": [
       "<div>\n",
       "<style scoped>\n",
       "    .dataframe tbody tr th:only-of-type {\n",
       "        vertical-align: middle;\n",
       "    }\n",
       "\n",
       "    .dataframe tbody tr th {\n",
       "        vertical-align: top;\n",
       "    }\n",
       "\n",
       "    .dataframe thead th {\n",
       "        text-align: right;\n",
       "    }\n",
       "</style>\n",
       "<table border=\"1\" class=\"dataframe\">\n",
       "  <thead>\n",
       "    <tr style=\"text-align: right;\">\n",
       "      <th></th>\n",
       "      <th>HCGR</th>\n",
       "      <th>HURA</th>\n",
       "      <th>IMPH</th>\n",
       "      <th>SFLU</th>\n",
       "    </tr>\n",
       "  </thead>\n",
       "  <tbody>\n",
       "    <tr>\n",
       "      <th>0</th>\n",
       "      <td>53.0798</td>\n",
       "      <td>2.2557</td>\n",
       "      <td>0.083247</td>\n",
       "      <td>-0.417168</td>\n",
       "    </tr>\n",
       "    <tr>\n",
       "      <th>1</th>\n",
       "      <td>59.1977</td>\n",
       "      <td>2.7544</td>\n",
       "      <td>0.329527</td>\n",
       "      <td>-0.373225</td>\n",
       "    </tr>\n",
       "    <tr>\n",
       "      <th>2</th>\n",
       "      <td>56.5277</td>\n",
       "      <td>2.1578</td>\n",
       "      <td>0.232230</td>\n",
       "      <td>0.116547</td>\n",
       "    </tr>\n",
       "    <tr>\n",
       "      <th>3</th>\n",
       "      <td>22.3937</td>\n",
       "      <td>1.1880</td>\n",
       "      <td>0.107966</td>\n",
       "      <td>-0.498057</td>\n",
       "    </tr>\n",
       "    <tr>\n",
       "      <th>4</th>\n",
       "      <td>51.6912</td>\n",
       "      <td>2.4325</td>\n",
       "      <td>0.099854</td>\n",
       "      <td>-0.428923</td>\n",
       "    </tr>\n",
       "    <tr>\n",
       "      <th>...</th>\n",
       "      <td>...</td>\n",
       "      <td>...</td>\n",
       "      <td>...</td>\n",
       "      <td>...</td>\n",
       "    </tr>\n",
       "    <tr>\n",
       "      <th>7750</th>\n",
       "      <td>7.6691</td>\n",
       "      <td>0.0000</td>\n",
       "      <td>7.475913</td>\n",
       "      <td>-2.391307</td>\n",
       "    </tr>\n",
       "    <tr>\n",
       "      <th>7751</th>\n",
       "      <td>22.4306</td>\n",
       "      <td>0.0916</td>\n",
       "      <td>7.575585</td>\n",
       "      <td>9.179881</td>\n",
       "    </tr>\n",
       "    <tr>\n",
       "      <th>7752</th>\n",
       "      <td>1.9945</td>\n",
       "      <td>0.0501</td>\n",
       "      <td>7.575585</td>\n",
       "      <td>-1.839417</td>\n",
       "    </tr>\n",
       "    <tr>\n",
       "      <th>7753</th>\n",
       "      <td>0.5881</td>\n",
       "      <td>0.0077</td>\n",
       "      <td>4.823882</td>\n",
       "      <td>0.467883</td>\n",
       "    </tr>\n",
       "    <tr>\n",
       "      <th>7754</th>\n",
       "      <td>5.8481</td>\n",
       "      <td>0.0000</td>\n",
       "      <td>7.475913</td>\n",
       "      <td>-2.391307</td>\n",
       "    </tr>\n",
       "  </tbody>\n",
       "</table>\n",
       "<p>7755 rows × 4 columns</p>\n",
       "</div>"
      ],
      "text/plain": [
       "         HCGR    HURA      IMPH      SFLU\n",
       "0     53.0798  2.2557  0.083247 -0.417168\n",
       "1     59.1977  2.7544  0.329527 -0.373225\n",
       "2     56.5277  2.1578  0.232230  0.116547\n",
       "3     22.3937  1.1880  0.107966 -0.498057\n",
       "4     51.6912  2.4325  0.099854 -0.428923\n",
       "...       ...     ...       ...       ...\n",
       "7750   7.6691  0.0000  7.475913 -2.391307\n",
       "7751  22.4306  0.0916  7.575585  9.179881\n",
       "7752   1.9945  0.0501  7.575585 -1.839417\n",
       "7753   0.5881  0.0077  4.823882  0.467883\n",
       "7754   5.8481  0.0000  7.475913 -2.391307\n",
       "\n",
       "[7755 rows x 4 columns]"
      ]
     },
     "execution_count": 91,
     "metadata": {},
     "output_type": "execute_result"
    }
   ],
   "source": [
    "X_train_num_logged"
   ]
  },
  {
   "cell_type": "code",
   "execution_count": 92,
   "metadata": {},
   "outputs": [],
   "source": [
    "X_train_cat_mapped= X_train_cat_mapped.reset_index(drop=True)"
   ]
  },
  {
   "cell_type": "code",
   "execution_count": 93,
   "metadata": {},
   "outputs": [],
   "source": [
    "X_train_all = pd.concat([X_train_num_logged, X_train_cat_mapped], axis=1)"
   ]
  },
  {
   "cell_type": "code",
   "execution_count": 94,
   "metadata": {},
   "outputs": [
    {
     "data": {
      "text/html": [
       "<div>\n",
       "<style scoped>\n",
       "    .dataframe tbody tr th:only-of-type {\n",
       "        vertical-align: middle;\n",
       "    }\n",
       "\n",
       "    .dataframe tbody tr th {\n",
       "        vertical-align: top;\n",
       "    }\n",
       "\n",
       "    .dataframe thead th {\n",
       "        text-align: right;\n",
       "    }\n",
       "</style>\n",
       "<table border=\"1\" class=\"dataframe\">\n",
       "  <thead>\n",
       "    <tr style=\"text-align: right;\">\n",
       "      <th></th>\n",
       "      <th>HCGR</th>\n",
       "      <th>HURA</th>\n",
       "      <th>IMPH</th>\n",
       "      <th>SFLU</th>\n",
       "      <th>munsel_color_1</th>\n",
       "      <th>munsel_color_2</th>\n",
       "      <th>munsel_color_3</th>\n",
       "    </tr>\n",
       "  </thead>\n",
       "  <tbody>\n",
       "    <tr>\n",
       "      <th>0</th>\n",
       "      <td>53.0798</td>\n",
       "      <td>2.2557</td>\n",
       "      <td>0.083247</td>\n",
       "      <td>-0.417168</td>\n",
       "      <td>0.2870</td>\n",
       "      <td>0.2135</td>\n",
       "      <td>6.550</td>\n",
       "    </tr>\n",
       "    <tr>\n",
       "      <th>1</th>\n",
       "      <td>59.1977</td>\n",
       "      <td>2.7544</td>\n",
       "      <td>0.329527</td>\n",
       "      <td>-0.373225</td>\n",
       "      <td>0.3671</td>\n",
       "      <td>0.3175</td>\n",
       "      <td>59.100</td>\n",
       "    </tr>\n",
       "    <tr>\n",
       "      <th>2</th>\n",
       "      <td>56.5277</td>\n",
       "      <td>2.1578</td>\n",
       "      <td>0.232230</td>\n",
       "      <td>0.116547</td>\n",
       "      <td>0.1900</td>\n",
       "      <td>0.2240</td>\n",
       "      <td>59.100</td>\n",
       "    </tr>\n",
       "    <tr>\n",
       "      <th>3</th>\n",
       "      <td>22.3937</td>\n",
       "      <td>1.1880</td>\n",
       "      <td>0.107966</td>\n",
       "      <td>-0.498057</td>\n",
       "      <td>0.2870</td>\n",
       "      <td>0.2135</td>\n",
       "      <td>6.550</td>\n",
       "    </tr>\n",
       "    <tr>\n",
       "      <th>4</th>\n",
       "      <td>51.6912</td>\n",
       "      <td>2.4325</td>\n",
       "      <td>0.099854</td>\n",
       "      <td>-0.428923</td>\n",
       "      <td>0.2870</td>\n",
       "      <td>0.2135</td>\n",
       "      <td>6.550</td>\n",
       "    </tr>\n",
       "    <tr>\n",
       "      <th>...</th>\n",
       "      <td>...</td>\n",
       "      <td>...</td>\n",
       "      <td>...</td>\n",
       "      <td>...</td>\n",
       "      <td>...</td>\n",
       "      <td>...</td>\n",
       "      <td>...</td>\n",
       "    </tr>\n",
       "    <tr>\n",
       "      <th>7750</th>\n",
       "      <td>7.6691</td>\n",
       "      <td>0.0000</td>\n",
       "      <td>7.475913</td>\n",
       "      <td>-2.391307</td>\n",
       "      <td>0.1930</td>\n",
       "      <td>0.0120</td>\n",
       "      <td>0.237</td>\n",
       "    </tr>\n",
       "    <tr>\n",
       "      <th>7751</th>\n",
       "      <td>22.4306</td>\n",
       "      <td>0.0916</td>\n",
       "      <td>7.575585</td>\n",
       "      <td>9.179881</td>\n",
       "      <td>0.1930</td>\n",
       "      <td>0.0120</td>\n",
       "      <td>0.237</td>\n",
       "    </tr>\n",
       "    <tr>\n",
       "      <th>7752</th>\n",
       "      <td>1.9945</td>\n",
       "      <td>0.0501</td>\n",
       "      <td>7.575585</td>\n",
       "      <td>-1.839417</td>\n",
       "      <td>0.4552</td>\n",
       "      <td>0.3761</td>\n",
       "      <td>59.100</td>\n",
       "    </tr>\n",
       "    <tr>\n",
       "      <th>7753</th>\n",
       "      <td>0.5881</td>\n",
       "      <td>0.0077</td>\n",
       "      <td>4.823882</td>\n",
       "      <td>0.467883</td>\n",
       "      <td>0.1930</td>\n",
       "      <td>0.0120</td>\n",
       "      <td>0.237</td>\n",
       "    </tr>\n",
       "    <tr>\n",
       "      <th>7754</th>\n",
       "      <td>5.8481</td>\n",
       "      <td>0.0000</td>\n",
       "      <td>7.475913</td>\n",
       "      <td>-2.391307</td>\n",
       "      <td>0.5043</td>\n",
       "      <td>0.3176</td>\n",
       "      <td>12.000</td>\n",
       "    </tr>\n",
       "  </tbody>\n",
       "</table>\n",
       "<p>7755 rows × 7 columns</p>\n",
       "</div>"
      ],
      "text/plain": [
       "         HCGR    HURA      IMPH      SFLU  munsel_color_1  munsel_color_2  \\\n",
       "0     53.0798  2.2557  0.083247 -0.417168          0.2870          0.2135   \n",
       "1     59.1977  2.7544  0.329527 -0.373225          0.3671          0.3175   \n",
       "2     56.5277  2.1578  0.232230  0.116547          0.1900          0.2240   \n",
       "3     22.3937  1.1880  0.107966 -0.498057          0.2870          0.2135   \n",
       "4     51.6912  2.4325  0.099854 -0.428923          0.2870          0.2135   \n",
       "...       ...     ...       ...       ...             ...             ...   \n",
       "7750   7.6691  0.0000  7.475913 -2.391307          0.1930          0.0120   \n",
       "7751  22.4306  0.0916  7.575585  9.179881          0.1930          0.0120   \n",
       "7752   1.9945  0.0501  7.575585 -1.839417          0.4552          0.3761   \n",
       "7753   0.5881  0.0077  4.823882  0.467883          0.1930          0.0120   \n",
       "7754   5.8481  0.0000  7.475913 -2.391307          0.5043          0.3176   \n",
       "\n",
       "      munsel_color_3  \n",
       "0              6.550  \n",
       "1             59.100  \n",
       "2             59.100  \n",
       "3              6.550  \n",
       "4              6.550  \n",
       "...              ...  \n",
       "7750           0.237  \n",
       "7751           0.237  \n",
       "7752          59.100  \n",
       "7753           0.237  \n",
       "7754          12.000  \n",
       "\n",
       "[7755 rows x 7 columns]"
      ]
     },
     "execution_count": 94,
     "metadata": {},
     "output_type": "execute_result"
    }
   ],
   "source": [
    "X_train_all "
   ]
  },
  {
   "cell_type": "markdown",
   "metadata": {},
   "source": [
    "## Scale\n",
    "After concatenating num and cat, scale all. After some testing, the StandardScaler is the best."
   ]
  },
  {
   "cell_type": "code",
   "execution_count": 98,
   "metadata": {},
   "outputs": [],
   "source": [
    "from sklearn.preprocessing import StandardScaler\n",
    "scaler = StandardScaler()\n",
    "X_train_all_std = pd.DataFrame(scaler.fit_transform(X_train_all), columns=X_train_all.columns)"
   ]
  },
  {
   "cell_type": "code",
   "execution_count": 99,
   "metadata": {},
   "outputs": [
    {
     "data": {
      "text/html": [
       "<div>\n",
       "<style scoped>\n",
       "    .dataframe tbody tr th:only-of-type {\n",
       "        vertical-align: middle;\n",
       "    }\n",
       "\n",
       "    .dataframe tbody tr th {\n",
       "        vertical-align: top;\n",
       "    }\n",
       "\n",
       "    .dataframe thead th {\n",
       "        text-align: right;\n",
       "    }\n",
       "</style>\n",
       "<table border=\"1\" class=\"dataframe\">\n",
       "  <thead>\n",
       "    <tr style=\"text-align: right;\">\n",
       "      <th></th>\n",
       "      <th>HCGR</th>\n",
       "      <th>HURA</th>\n",
       "      <th>IMPH</th>\n",
       "      <th>SFLU</th>\n",
       "      <th>munsel_color_1</th>\n",
       "      <th>munsel_color_2</th>\n",
       "      <th>munsel_color_3</th>\n",
       "    </tr>\n",
       "  </thead>\n",
       "  <tbody>\n",
       "    <tr>\n",
       "      <th>0</th>\n",
       "      <td>0.720963</td>\n",
       "      <td>1.438880</td>\n",
       "      <td>-0.781299</td>\n",
       "      <td>-0.264480</td>\n",
       "      <td>0.201999</td>\n",
       "      <td>-0.456031</td>\n",
       "      <td>-0.714166</td>\n",
       "    </tr>\n",
       "    <tr>\n",
       "      <th>1</th>\n",
       "      <td>0.985821</td>\n",
       "      <td>2.133226</td>\n",
       "      <td>-0.706681</td>\n",
       "      <td>-0.248615</td>\n",
       "      <td>0.625498</td>\n",
       "      <td>0.040502</td>\n",
       "      <td>1.220815</td>\n",
       "    </tr>\n",
       "    <tr>\n",
       "      <th>2</th>\n",
       "      <td>0.870231</td>\n",
       "      <td>1.302573</td>\n",
       "      <td>-0.736160</td>\n",
       "      <td>-0.071794</td>\n",
       "      <td>-0.310852</td>\n",
       "      <td>-0.405900</td>\n",
       "      <td>1.220815</td>\n",
       "    </tr>\n",
       "    <tr>\n",
       "      <th>3</th>\n",
       "      <td>-0.607511</td>\n",
       "      <td>-0.047691</td>\n",
       "      <td>-0.773809</td>\n",
       "      <td>-0.293683</td>\n",
       "      <td>0.201999</td>\n",
       "      <td>-0.456031</td>\n",
       "      <td>-0.714166</td>\n",
       "    </tr>\n",
       "    <tr>\n",
       "      <th>4</th>\n",
       "      <td>0.660847</td>\n",
       "      <td>1.685041</td>\n",
       "      <td>-0.776267</td>\n",
       "      <td>-0.268723</td>\n",
       "      <td>0.201999</td>\n",
       "      <td>-0.456031</td>\n",
       "      <td>-0.714166</td>\n",
       "    </tr>\n",
       "    <tr>\n",
       "      <th>...</th>\n",
       "      <td>...</td>\n",
       "      <td>...</td>\n",
       "      <td>...</td>\n",
       "      <td>...</td>\n",
       "      <td>...</td>\n",
       "      <td>...</td>\n",
       "      <td>...</td>\n",
       "    </tr>\n",
       "    <tr>\n",
       "      <th>7750</th>\n",
       "      <td>-1.244973</td>\n",
       "      <td>-1.701758</td>\n",
       "      <td>1.458538</td>\n",
       "      <td>-0.977197</td>\n",
       "      <td>-0.294990</td>\n",
       "      <td>-1.418063</td>\n",
       "      <td>-0.946621</td>\n",
       "    </tr>\n",
       "    <tr>\n",
       "      <th>7751</th>\n",
       "      <td>-0.605913</td>\n",
       "      <td>-1.574222</td>\n",
       "      <td>1.488736</td>\n",
       "      <td>3.200316</td>\n",
       "      <td>-0.294990</td>\n",
       "      <td>-1.418063</td>\n",
       "      <td>-0.946621</td>\n",
       "    </tr>\n",
       "    <tr>\n",
       "      <th>7752</th>\n",
       "      <td>-1.490640</td>\n",
       "      <td>-1.632003</td>\n",
       "      <td>1.488736</td>\n",
       "      <td>-0.777950</td>\n",
       "      <td>1.091294</td>\n",
       "      <td>0.320279</td>\n",
       "      <td>1.220815</td>\n",
       "    </tr>\n",
       "    <tr>\n",
       "      <th>7753</th>\n",
       "      <td>-1.551527</td>\n",
       "      <td>-1.691037</td>\n",
       "      <td>0.655023</td>\n",
       "      <td>0.055048</td>\n",
       "      <td>-0.294990</td>\n",
       "      <td>-1.418063</td>\n",
       "      <td>-0.946621</td>\n",
       "    </tr>\n",
       "    <tr>\n",
       "      <th>7754</th>\n",
       "      <td>-1.323809</td>\n",
       "      <td>-1.701758</td>\n",
       "      <td>1.458538</td>\n",
       "      <td>-0.977197</td>\n",
       "      <td>1.350891</td>\n",
       "      <td>0.040979</td>\n",
       "      <td>-0.513487</td>\n",
       "    </tr>\n",
       "  </tbody>\n",
       "</table>\n",
       "<p>7755 rows × 7 columns</p>\n",
       "</div>"
      ],
      "text/plain": [
       "          HCGR      HURA      IMPH      SFLU  munsel_color_1  munsel_color_2  \\\n",
       "0     0.720963  1.438880 -0.781299 -0.264480        0.201999       -0.456031   \n",
       "1     0.985821  2.133226 -0.706681 -0.248615        0.625498        0.040502   \n",
       "2     0.870231  1.302573 -0.736160 -0.071794       -0.310852       -0.405900   \n",
       "3    -0.607511 -0.047691 -0.773809 -0.293683        0.201999       -0.456031   \n",
       "4     0.660847  1.685041 -0.776267 -0.268723        0.201999       -0.456031   \n",
       "...        ...       ...       ...       ...             ...             ...   \n",
       "7750 -1.244973 -1.701758  1.458538 -0.977197       -0.294990       -1.418063   \n",
       "7751 -0.605913 -1.574222  1.488736  3.200316       -0.294990       -1.418063   \n",
       "7752 -1.490640 -1.632003  1.488736 -0.777950        1.091294        0.320279   \n",
       "7753 -1.551527 -1.691037  0.655023  0.055048       -0.294990       -1.418063   \n",
       "7754 -1.323809 -1.701758  1.458538 -0.977197        1.350891        0.040979   \n",
       "\n",
       "      munsel_color_3  \n",
       "0          -0.714166  \n",
       "1           1.220815  \n",
       "2           1.220815  \n",
       "3          -0.714166  \n",
       "4          -0.714166  \n",
       "...              ...  \n",
       "7750       -0.946621  \n",
       "7751       -0.946621  \n",
       "7752        1.220815  \n",
       "7753       -0.946621  \n",
       "7754       -0.513487  \n",
       "\n",
       "[7755 rows x 7 columns]"
      ]
     },
     "execution_count": 99,
     "metadata": {},
     "output_type": "execute_result"
    }
   ],
   "source": [
    "X_train_all_std"
   ]
  },
  {
   "cell_type": "markdown",
   "metadata": {},
   "source": [
    "## Build pipeline"
   ]
  },
  {
   "cell_type": "code",
   "execution_count": 100,
   "metadata": {},
   "outputs": [],
   "source": [
    "num_features = ['HCGR','HURA']\n",
    "num_log_features = ['IMPH', 'SFLU']\n",
    "cat_features = ['munsel_color']\n",
    "\n",
    "num_pipe = make_pipeline(SimpleImputer(), ZeroTransform(), StandardScaler()) \n",
    "num_log_pipe = make_pipeline(SimpleImputer(), ZeroTransform(), LogTransformer(), StandardScaler())\n",
    "cat_pipe = make_pipeline(MunselColorMapper(), StandardScaler())\n",
    "\n",
    "full_pipe = ColumnTransformer([\n",
    "    ('num_pipe', num_pipe, num_features),\n",
    "    ('num_log_pipe', num_log_pipe, num_log_features),                           \n",
    "    ('cat_pipe', cat_pipe, cat_features)])"
   ]
  },
  {
   "cell_type": "code",
   "execution_count": 101,
   "metadata": {},
   "outputs": [],
   "source": [
    "def get_X_y(df):\n",
    "    X = df.drop(['lithology'], axis=1)\n",
    "    y = df['lithology']\n",
    "    return X, y"
   ]
  },
  {
   "cell_type": "code",
   "execution_count": 102,
   "metadata": {},
   "outputs": [],
   "source": [
    "X_train, y_train = get_X_y(train_set)\n",
    "X_test, y_test = get_X_y(test_set)"
   ]
  },
  {
   "cell_type": "code",
   "execution_count": 12,
   "metadata": {},
   "outputs": [],
   "source": [
    "test_frac = int(df.shape[0]*.3)+1\n",
    "test_frac\n",
    "sorted_data = df.sort_values(by=['DEPTH_WMSF'], ascending=False)\n",
    "sorted_data.head()\n",
    "test_set = sorted_data.iloc[:test_frac]\n",
    "train_set = sorted_data.iloc[test_frac:]"
   ]
  },
  {
   "cell_type": "code",
   "execution_count": 13,
   "metadata": {},
   "outputs": [
    {
     "data": {
      "text/plain": [
       "3    3385\n",
       "0    1846\n",
       "2     970\n",
       "1     929\n",
       "4     625\n",
       "Name: lithology, dtype: int64"
      ]
     },
     "execution_count": 13,
     "metadata": {},
     "output_type": "execute_result"
    }
   ],
   "source": [
    "train_set['lithology'].value_counts()"
   ]
  },
  {
   "cell_type": "code",
   "execution_count": 14,
   "metadata": {},
   "outputs": [
    {
     "data": {
      "text/plain": [
       "3    1548\n",
       "2    1033\n",
       "4     744\n",
       "Name: lithology, dtype: int64"
      ]
     },
     "execution_count": 14,
     "metadata": {},
     "output_type": "execute_result"
    }
   ],
   "source": [
    "test_set['lithology'].value_counts()"
   ]
  },
  {
   "cell_type": "code",
   "execution_count": 31,
   "metadata": {},
   "outputs": [],
   "source": [
    "X_train, y_train = get_X_y(train_set)\n",
    "X_test, y_test = get_X_y(train_set)"
   ]
  },
  {
   "cell_type": "code",
   "execution_count": 32,
   "metadata": {},
   "outputs": [],
   "source": [
    "X_train_processed = full_pipe.fit_transform(X_train)\n",
    "X_test_processed = full_pipe.transform(X_test)"
   ]
  },
  {
   "cell_type": "markdown",
   "id": "eb249503-1ae6-43ef-9b1c-000d5f515c26",
   "metadata": {},
   "source": [
    "# 🐠 PART B: Finding the best model [30 marks]\n",
    "\n",
    "Once you understand your data, you can start to find the best model. Remember that IODP has a few criteria for you:\n",
    "1. You must at least use the `munsell_color` feature in your model\n",
    "2. You must write the entire model as a `pipeline` that can process raw data and return a prediction. Your estimator must be a `parametric model`, i.e. `model.coef_` must return the coefficients of the model.\n",
    "3. Your model will be evaluated against performance on the unseen data. This will include checking how close your predicted `F1 macro` of your test set is to the `F1 macro` calculated by your model on the unseen data (IODP has secret labels for that).\n",
    "4. Your model will also be evaluated for simplicity versus performance, i.e. the ratio of `F1 macro` on the unseen data against the `number of coefficients` (not their values) of your model.\n",
    "\n",
    "Once you have defined and trained your best model, please run the cell below the next empty cell. This cell assumes that 1. your trained best model is called `best_model`, your `X_test` and your `y_test_cat` are named exactly like this (and `y_train_cat` represents the `y_test` transformed into categorical value. Running this cell will save values that will be used for automatic testing of your results, so this is important. If your variables have different names, you can change this code."
   ]
  },
  {
   "cell_type": "code",
   "execution_count": 122,
   "metadata": {},
   "outputs": [],
   "source": [
    "import pandas as pd\n",
    "# Load the data:\n",
    "df = pd.read_csv('data/log_data.csv') # This is your EDA (Part A) and training data (Parts B and C)\n",
    "\n",
    "new_samples = pd.read_csv('data/new_data.csv') # This is the file you need to predict in parts B and C"
   ]
  },
  {
   "cell_type": "code",
   "execution_count": 123,
   "metadata": {},
   "outputs": [],
   "source": [
    "# label encoding\n",
    "y = df['lithology']\n",
    "le = LabelEncoder()\n",
    "le.fit(y)\n",
    "y = le.transform(y)\n",
    "df['lithology'] = y"
   ]
  },
  {
   "cell_type": "code",
   "execution_count": 126,
   "id": "8240208f-72a8-4589-a6b6-eb7107a646c9",
   "metadata": {},
   "outputs": [],
   "source": [
    "# Create as many cells as you need - keep your notebook clean\n",
    "test_frac = int(df.shape[0]*.3)+1\n",
    "test_frac\n",
    "sorted_data = df.sort_values(by=['DEPTH_WMSF'], ascending=False)\n",
    "sorted_data.head()\n",
    "test_set= sorted_data.iloc[:test_frac]\n",
    "train_set= sorted_data.iloc[test_frac:]\n",
    "X_train, y_train = get_X_y(train_set)\n",
    "X_test, y_test = get_X_y(train_set)"
   ]
  },
  {
   "cell_type": "code",
   "execution_count": 127,
   "metadata": {},
   "outputs": [],
   "source": [
    "X_train_processed = full_pipe.fit_transform(X_train)\n",
    "X_test_processed = full_pipe.transform(X_test)"
   ]
  },
  {
   "cell_type": "markdown",
   "metadata": {},
   "source": [
    "## Logisticregression"
   ]
  },
  {
   "cell_type": "code",
   "execution_count": 128,
   "metadata": {},
   "outputs": [
    {
     "data": {
      "text/plain": [
       "0.8687707013273371"
      ]
     },
     "execution_count": 128,
     "metadata": {},
     "output_type": "execute_result"
    }
   ],
   "source": [
    "from sklearn.linear_model import LogisticRegression\n",
    "from sklearn.metrics import precision_score, recall_score, accuracy_score, f1_score\n",
    "\n",
    "model_logit = LogisticRegression(max_iter=5000)\n",
    "model_logit.fit(X_train_processed, y_train)\n",
    "\n",
    "y_pred = model_logit.predict(X_test_processed)\n",
    "\n",
    "precision_logit = precision_score(y_test, y_pred, average=None)\n",
    "recall_logit = recall_score(y_test, y_pred, average=None)\n",
    "accuracy_logit = accuracy_score(y_test, y_pred)\n",
    "f1_logit = f1_score(y_test, y_pred, average=None)\n",
    "f1_logit.mean()"
   ]
  },
  {
   "cell_type": "markdown",
   "metadata": {},
   "source": [
    "## SVC "
   ]
  },
  {
   "cell_type": "code",
   "execution_count": 135,
   "metadata": {},
   "outputs": [
    {
     "name": "stdout",
     "output_type": "stream",
     "text": [
      "0.8742641178376613\n"
     ]
    }
   ],
   "source": [
    "from sklearn.svm import SVC\n",
    "from sklearn.metrics import precision_score, recall_score, accuracy_score, f1_score\n",
    "\n",
    "model_svc = SVC(kernel=\"linear\")\n",
    "model_svc.fit(X_train_processed, y_train)\n",
    "y_pred = model_svc.predict(X_test_processed)\n",
    "f1_svc = f1_score(y_test, y_pred, average=None)\n",
    "print(f1_svc.mean())"
   ]
  },
  {
   "cell_type": "code",
   "execution_count": 137,
   "metadata": {},
   "outputs": [
    {
     "name": "stdout",
     "output_type": "stream",
     "text": [
      "{'C': 100, 'gamma': 1, 'kernel': 'linear'}\n"
     ]
    }
   ],
   "source": [
    "from sklearn.model_selection import GridSearchCV\n",
    "from sklearn.svm import SVC\n",
    "\n",
    "param_grid = {\n",
    "    'C': [0.1, 1, 10, 100],\n",
    "    'gamma': [1, 0.1, 0.01, 0.001],\n",
    "    'kernel': ['linear']\n",
    "}\n",
    "svc = SVC()\n",
    "grid_search = GridSearchCV(svc, param_grid, cv=5)\n",
    "\n",
    "grid_search.fit(X_train_processed, y_train)\n",
    "print(grid_search.best_params_)"
   ]
  },
  {
   "cell_type": "code",
   "execution_count": 151,
   "metadata": {},
   "outputs": [
    {
     "name": "stdout",
     "output_type": "stream",
     "text": [
      "0.8742644371757018\n"
     ]
    }
   ],
   "source": [
    "model_svc_best = SVC(kernel=\"linear\", C=100, gamma=1)\n",
    "model_svc_best.fit(X_train_processed, y_train)\n",
    "y_pred = model_svc_best.predict(X_test_processed)\n",
    "f1_svc = f1_score(y_test, y_pred, average=None)\n",
    "print(f1_svc.mean())"
   ]
  },
  {
   "cell_type": "code",
   "execution_count": 144,
   "id": "6958e89e-2ea6-4d0f-8971-21b8e3158165",
   "metadata": {},
   "outputs": [],
   "source": [
    "# RUN THIS CELL TO SAVE YOUR SCORES TO DISC - ESSENTIAL FOR AUTOMATIC TESTING\n",
    "best_model = model_svc_best\n",
    "y_test_cat = y_test\n",
    "X_test = X_test_processed\n",
    "from sklearn.metrics import f1_score\n",
    "\n",
    "pd.Series(f1_score(y_test_cat, best_model.predict(X_test), average='macro'), name='f1_test').to_csv('f1_test.csv', index=False)\n",
    "pd.Series(best_model.predict(X_test), name='y_pred').to_csv('y_pred_notebook.csv', index=False)"
   ]
  },
  {
   "cell_type": "markdown",
   "id": "6a4a5706-1c49-42d5-876d-87e8b9759d3d",
   "metadata": {},
   "source": [
    "# 🦈 PART C: Write the `LithoEstimator` Class [40 marks]\n",
    "\n",
    "This is the final piece of the assignment. If you open the `litho_estimator.py` file you will see that the skeleton of a class called `LithoEstimator` has been created for you. Your job is to finish the class in the file, based on what you found out in **parts A and B**. I expect this class to have the following behaviour:\n",
    "\n",
    "1. When a new instance of the class is created, it will automatically create a machine learning model (a pipeline with an estimator) that is defined in the same way as your most performant algorithm. That is to say, use the same parameters (and hyperparameters) than you best estimator, but do not do any EDA or hyperparameter tuning (this would be done in **parts A and B** in this notebook).\n",
    "2. At initialisation time, you need to create the variables `self.X_train`, `self.X_test`, `self.y_train` and `self.y_test`.\n",
    "3. The class will automatically train your algorithm on the `X_train` and `y_train`\n",
    "4. The `x_test_score(self)` method should return the `f1_score` with `average=macro` of your predicted `X_test`.\n",
    "5. The `get_Xs(self)` method should return `X_train` and `X_test`\n",
    "6. The `get_ys(self)` method should return `y_train` and `y_test`\n",
    "7. The `predict(self, path_to_new_file)` method should return the `y_pred` (predictions) for any file path we give to the method. The default value for `path_to_new_file` is already set for you as the `new_data.csv` file.\n",
    "8. The `get_model(self)` method should return the entire **trained model** (pipeline) that includes the final predictor. I recommend you save your model as an instance variable (`self.model`).\n",
    "9. You can add as many other methods as needed, or write additional classes such as custom transformers or others in the same python file.\n",
    "\n",
    "If you want a rough test of your code, you can try to run the cells below:"
   ]
  },
  {
   "cell_type": "code",
   "execution_count": 5,
   "metadata": {},
   "outputs": [
    {
     "name": "stderr",
     "output_type": "stream",
     "text": [
      "/mnt/d/Documents/Github/dsml4pe-2023-assessment-acse-wy1223/litho_estimator.py:113: SettingWithCopyWarning: \n",
      "A value is trying to be set on a copy of a slice from a DataFrame.\n",
      "Try using .loc[row_indexer,col_indexer] = value instead\n",
      "\n",
      "See the caveats in the documentation: https://pandas.pydata.org/pandas-docs/stable/user_guide/indexing.html#returning-a-view-versus-a-copy\n",
      "  self.data_preprocessed['lithology'] = y\n"
     ]
    }
   ],
   "source": [
    "from litho_estimator import LithoEstimator\n",
    "model = LithoEstimator(path='data/log_data.csv')"
   ]
  },
  {
   "cell_type": "code",
   "execution_count": 6,
   "metadata": {},
   "outputs": [],
   "source": [
    "model.create_model()"
   ]
  },
  {
   "cell_type": "code",
   "execution_count": 7,
   "metadata": {},
   "outputs": [
    {
     "data": {
      "text/html": [
       "<style>#sk-container-id-1 {color: black;background-color: white;}#sk-container-id-1 pre{padding: 0;}#sk-container-id-1 div.sk-toggleable {background-color: white;}#sk-container-id-1 label.sk-toggleable__label {cursor: pointer;display: block;width: 100%;margin-bottom: 0;padding: 0.3em;box-sizing: border-box;text-align: center;}#sk-container-id-1 label.sk-toggleable__label-arrow:before {content: \"▸\";float: left;margin-right: 0.25em;color: #696969;}#sk-container-id-1 label.sk-toggleable__label-arrow:hover:before {color: black;}#sk-container-id-1 div.sk-estimator:hover label.sk-toggleable__label-arrow:before {color: black;}#sk-container-id-1 div.sk-toggleable__content {max-height: 0;max-width: 0;overflow: hidden;text-align: left;background-color: #f0f8ff;}#sk-container-id-1 div.sk-toggleable__content pre {margin: 0.2em;color: black;border-radius: 0.25em;background-color: #f0f8ff;}#sk-container-id-1 input.sk-toggleable__control:checked~div.sk-toggleable__content {max-height: 200px;max-width: 100%;overflow: auto;}#sk-container-id-1 input.sk-toggleable__control:checked~label.sk-toggleable__label-arrow:before {content: \"▾\";}#sk-container-id-1 div.sk-estimator input.sk-toggleable__control:checked~label.sk-toggleable__label {background-color: #d4ebff;}#sk-container-id-1 div.sk-label input.sk-toggleable__control:checked~label.sk-toggleable__label {background-color: #d4ebff;}#sk-container-id-1 input.sk-hidden--visually {border: 0;clip: rect(1px 1px 1px 1px);clip: rect(1px, 1px, 1px, 1px);height: 1px;margin: -1px;overflow: hidden;padding: 0;position: absolute;width: 1px;}#sk-container-id-1 div.sk-estimator {font-family: monospace;background-color: #f0f8ff;border: 1px dotted black;border-radius: 0.25em;box-sizing: border-box;margin-bottom: 0.5em;}#sk-container-id-1 div.sk-estimator:hover {background-color: #d4ebff;}#sk-container-id-1 div.sk-parallel-item::after {content: \"\";width: 100%;border-bottom: 1px solid gray;flex-grow: 1;}#sk-container-id-1 div.sk-label:hover label.sk-toggleable__label {background-color: #d4ebff;}#sk-container-id-1 div.sk-serial::before {content: \"\";position: absolute;border-left: 1px solid gray;box-sizing: border-box;top: 0;bottom: 0;left: 50%;z-index: 0;}#sk-container-id-1 div.sk-serial {display: flex;flex-direction: column;align-items: center;background-color: white;padding-right: 0.2em;padding-left: 0.2em;position: relative;}#sk-container-id-1 div.sk-item {position: relative;z-index: 1;}#sk-container-id-1 div.sk-parallel {display: flex;align-items: stretch;justify-content: center;background-color: white;position: relative;}#sk-container-id-1 div.sk-item::before, #sk-container-id-1 div.sk-parallel-item::before {content: \"\";position: absolute;border-left: 1px solid gray;box-sizing: border-box;top: 0;bottom: 0;left: 50%;z-index: -1;}#sk-container-id-1 div.sk-parallel-item {display: flex;flex-direction: column;z-index: 1;position: relative;background-color: white;}#sk-container-id-1 div.sk-parallel-item:first-child::after {align-self: flex-end;width: 50%;}#sk-container-id-1 div.sk-parallel-item:last-child::after {align-self: flex-start;width: 50%;}#sk-container-id-1 div.sk-parallel-item:only-child::after {width: 0;}#sk-container-id-1 div.sk-dashed-wrapped {border: 1px dashed gray;margin: 0 0.4em 0.5em 0.4em;box-sizing: border-box;padding-bottom: 0.4em;background-color: white;}#sk-container-id-1 div.sk-label label {font-family: monospace;font-weight: bold;display: inline-block;line-height: 1.2em;}#sk-container-id-1 div.sk-label-container {text-align: center;}#sk-container-id-1 div.sk-container {/* jupyter's `normalize.less` sets `[hidden] { display: none; }` but bootstrap.min.css set `[hidden] { display: none !important; }` so we also need the `!important` here to be able to override the default hidden behavior on the sphinx rendered scikit-learn.org. See: https://github.com/scikit-learn/scikit-learn/issues/21755 */display: inline-block !important;position: relative;}#sk-container-id-1 div.sk-text-repr-fallback {display: none;}</style><div id=\"sk-container-id-1\" class=\"sk-top-container\"><div class=\"sk-text-repr-fallback\"><pre>Pipeline(steps=[(&#x27;columntransformer&#x27;,\n",
       "                 ColumnTransformer(transformers=[(&#x27;num_pipe&#x27;,\n",
       "                                                  Pipeline(steps=[(&#x27;simpleimputer&#x27;,\n",
       "                                                                   SimpleImputer()),\n",
       "                                                                  (&#x27;zerotransform&#x27;,\n",
       "                                                                   ZeroTransform()),\n",
       "                                                                  (&#x27;standardscaler&#x27;,\n",
       "                                                                   StandardScaler())]),\n",
       "                                                  [&#x27;HCGR&#x27;, &#x27;HURA&#x27;]),\n",
       "                                                 (&#x27;num_log_pipe&#x27;,\n",
       "                                                  Pipeline(steps=[(&#x27;simpleimputer&#x27;,\n",
       "                                                                   SimpleImputer()),\n",
       "                                                                  (&#x27;zerotransform&#x27;,\n",
       "                                                                   ZeroTransform()),\n",
       "                                                                  (&#x27;logtransformer&#x27;,\n",
       "                                                                   LogTransformer()),\n",
       "                                                                  (&#x27;standardscaler&#x27;,\n",
       "                                                                   StandardScaler())]),\n",
       "                                                  [&#x27;IMPH&#x27;, &#x27;SFLU&#x27;]),\n",
       "                                                 (&#x27;cat_pipe&#x27;,\n",
       "                                                  Pipeline(steps=[(&#x27;munselcolormapper&#x27;,\n",
       "                                                                   MunselColorMapper()),\n",
       "                                                                  (&#x27;standardscaler&#x27;,\n",
       "                                                                   StandardScaler())]),\n",
       "                                                  [&#x27;munsel_color&#x27;])])),\n",
       "                (&#x27;svc&#x27;, SVC(C=100, gamma=1, kernel=&#x27;linear&#x27;))])</pre><b>In a Jupyter environment, please rerun this cell to show the HTML representation or trust the notebook. <br />On GitHub, the HTML representation is unable to render, please try loading this page with nbviewer.org.</b></div><div class=\"sk-container\" hidden><div class=\"sk-item sk-dashed-wrapped\"><div class=\"sk-label-container\"><div class=\"sk-label sk-toggleable\"><input class=\"sk-toggleable__control sk-hidden--visually\" id=\"sk-estimator-id-1\" type=\"checkbox\" ><label for=\"sk-estimator-id-1\" class=\"sk-toggleable__label sk-toggleable__label-arrow\">Pipeline</label><div class=\"sk-toggleable__content\"><pre>Pipeline(steps=[(&#x27;columntransformer&#x27;,\n",
       "                 ColumnTransformer(transformers=[(&#x27;num_pipe&#x27;,\n",
       "                                                  Pipeline(steps=[(&#x27;simpleimputer&#x27;,\n",
       "                                                                   SimpleImputer()),\n",
       "                                                                  (&#x27;zerotransform&#x27;,\n",
       "                                                                   ZeroTransform()),\n",
       "                                                                  (&#x27;standardscaler&#x27;,\n",
       "                                                                   StandardScaler())]),\n",
       "                                                  [&#x27;HCGR&#x27;, &#x27;HURA&#x27;]),\n",
       "                                                 (&#x27;num_log_pipe&#x27;,\n",
       "                                                  Pipeline(steps=[(&#x27;simpleimputer&#x27;,\n",
       "                                                                   SimpleImputer()),\n",
       "                                                                  (&#x27;zerotransform&#x27;,\n",
       "                                                                   ZeroTransform()),\n",
       "                                                                  (&#x27;logtransformer&#x27;,\n",
       "                                                                   LogTransformer()),\n",
       "                                                                  (&#x27;standardscaler&#x27;,\n",
       "                                                                   StandardScaler())]),\n",
       "                                                  [&#x27;IMPH&#x27;, &#x27;SFLU&#x27;]),\n",
       "                                                 (&#x27;cat_pipe&#x27;,\n",
       "                                                  Pipeline(steps=[(&#x27;munselcolormapper&#x27;,\n",
       "                                                                   MunselColorMapper()),\n",
       "                                                                  (&#x27;standardscaler&#x27;,\n",
       "                                                                   StandardScaler())]),\n",
       "                                                  [&#x27;munsel_color&#x27;])])),\n",
       "                (&#x27;svc&#x27;, SVC(C=100, gamma=1, kernel=&#x27;linear&#x27;))])</pre></div></div></div><div class=\"sk-serial\"><div class=\"sk-item sk-dashed-wrapped\"><div class=\"sk-label-container\"><div class=\"sk-label sk-toggleable\"><input class=\"sk-toggleable__control sk-hidden--visually\" id=\"sk-estimator-id-2\" type=\"checkbox\" ><label for=\"sk-estimator-id-2\" class=\"sk-toggleable__label sk-toggleable__label-arrow\">columntransformer: ColumnTransformer</label><div class=\"sk-toggleable__content\"><pre>ColumnTransformer(transformers=[(&#x27;num_pipe&#x27;,\n",
       "                                 Pipeline(steps=[(&#x27;simpleimputer&#x27;,\n",
       "                                                  SimpleImputer()),\n",
       "                                                 (&#x27;zerotransform&#x27;,\n",
       "                                                  ZeroTransform()),\n",
       "                                                 (&#x27;standardscaler&#x27;,\n",
       "                                                  StandardScaler())]),\n",
       "                                 [&#x27;HCGR&#x27;, &#x27;HURA&#x27;]),\n",
       "                                (&#x27;num_log_pipe&#x27;,\n",
       "                                 Pipeline(steps=[(&#x27;simpleimputer&#x27;,\n",
       "                                                  SimpleImputer()),\n",
       "                                                 (&#x27;zerotransform&#x27;,\n",
       "                                                  ZeroTransform()),\n",
       "                                                 (&#x27;logtransformer&#x27;,\n",
       "                                                  LogTransformer()),\n",
       "                                                 (&#x27;standardscaler&#x27;,\n",
       "                                                  StandardScaler())]),\n",
       "                                 [&#x27;IMPH&#x27;, &#x27;SFLU&#x27;]),\n",
       "                                (&#x27;cat_pipe&#x27;,\n",
       "                                 Pipeline(steps=[(&#x27;munselcolormapper&#x27;,\n",
       "                                                  MunselColorMapper()),\n",
       "                                                 (&#x27;standardscaler&#x27;,\n",
       "                                                  StandardScaler())]),\n",
       "                                 [&#x27;munsel_color&#x27;])])</pre></div></div></div><div class=\"sk-parallel\"><div class=\"sk-parallel-item\"><div class=\"sk-item\"><div class=\"sk-label-container\"><div class=\"sk-label sk-toggleable\"><input class=\"sk-toggleable__control sk-hidden--visually\" id=\"sk-estimator-id-3\" type=\"checkbox\" ><label for=\"sk-estimator-id-3\" class=\"sk-toggleable__label sk-toggleable__label-arrow\">num_pipe</label><div class=\"sk-toggleable__content\"><pre>[&#x27;HCGR&#x27;, &#x27;HURA&#x27;]</pre></div></div></div><div class=\"sk-serial\"><div class=\"sk-item\"><div class=\"sk-serial\"><div class=\"sk-item\"><div class=\"sk-estimator sk-toggleable\"><input class=\"sk-toggleable__control sk-hidden--visually\" id=\"sk-estimator-id-4\" type=\"checkbox\" ><label for=\"sk-estimator-id-4\" class=\"sk-toggleable__label sk-toggleable__label-arrow\">SimpleImputer</label><div class=\"sk-toggleable__content\"><pre>SimpleImputer()</pre></div></div></div><div class=\"sk-item\"><div class=\"sk-estimator sk-toggleable\"><input class=\"sk-toggleable__control sk-hidden--visually\" id=\"sk-estimator-id-5\" type=\"checkbox\" ><label for=\"sk-estimator-id-5\" class=\"sk-toggleable__label sk-toggleable__label-arrow\">ZeroTransform</label><div class=\"sk-toggleable__content\"><pre>ZeroTransform()</pre></div></div></div><div class=\"sk-item\"><div class=\"sk-estimator sk-toggleable\"><input class=\"sk-toggleable__control sk-hidden--visually\" id=\"sk-estimator-id-6\" type=\"checkbox\" ><label for=\"sk-estimator-id-6\" class=\"sk-toggleable__label sk-toggleable__label-arrow\">StandardScaler</label><div class=\"sk-toggleable__content\"><pre>StandardScaler()</pre></div></div></div></div></div></div></div></div><div class=\"sk-parallel-item\"><div class=\"sk-item\"><div class=\"sk-label-container\"><div class=\"sk-label sk-toggleable\"><input class=\"sk-toggleable__control sk-hidden--visually\" id=\"sk-estimator-id-7\" type=\"checkbox\" ><label for=\"sk-estimator-id-7\" class=\"sk-toggleable__label sk-toggleable__label-arrow\">num_log_pipe</label><div class=\"sk-toggleable__content\"><pre>[&#x27;IMPH&#x27;, &#x27;SFLU&#x27;]</pre></div></div></div><div class=\"sk-serial\"><div class=\"sk-item\"><div class=\"sk-serial\"><div class=\"sk-item\"><div class=\"sk-estimator sk-toggleable\"><input class=\"sk-toggleable__control sk-hidden--visually\" id=\"sk-estimator-id-8\" type=\"checkbox\" ><label for=\"sk-estimator-id-8\" class=\"sk-toggleable__label sk-toggleable__label-arrow\">SimpleImputer</label><div class=\"sk-toggleable__content\"><pre>SimpleImputer()</pre></div></div></div><div class=\"sk-item\"><div class=\"sk-estimator sk-toggleable\"><input class=\"sk-toggleable__control sk-hidden--visually\" id=\"sk-estimator-id-9\" type=\"checkbox\" ><label for=\"sk-estimator-id-9\" class=\"sk-toggleable__label sk-toggleable__label-arrow\">ZeroTransform</label><div class=\"sk-toggleable__content\"><pre>ZeroTransform()</pre></div></div></div><div class=\"sk-item\"><div class=\"sk-estimator sk-toggleable\"><input class=\"sk-toggleable__control sk-hidden--visually\" id=\"sk-estimator-id-10\" type=\"checkbox\" ><label for=\"sk-estimator-id-10\" class=\"sk-toggleable__label sk-toggleable__label-arrow\">LogTransformer</label><div class=\"sk-toggleable__content\"><pre>LogTransformer()</pre></div></div></div><div class=\"sk-item\"><div class=\"sk-estimator sk-toggleable\"><input class=\"sk-toggleable__control sk-hidden--visually\" id=\"sk-estimator-id-11\" type=\"checkbox\" ><label for=\"sk-estimator-id-11\" class=\"sk-toggleable__label sk-toggleable__label-arrow\">StandardScaler</label><div class=\"sk-toggleable__content\"><pre>StandardScaler()</pre></div></div></div></div></div></div></div></div><div class=\"sk-parallel-item\"><div class=\"sk-item\"><div class=\"sk-label-container\"><div class=\"sk-label sk-toggleable\"><input class=\"sk-toggleable__control sk-hidden--visually\" id=\"sk-estimator-id-12\" type=\"checkbox\" ><label for=\"sk-estimator-id-12\" class=\"sk-toggleable__label sk-toggleable__label-arrow\">cat_pipe</label><div class=\"sk-toggleable__content\"><pre>[&#x27;munsel_color&#x27;]</pre></div></div></div><div class=\"sk-serial\"><div class=\"sk-item\"><div class=\"sk-serial\"><div class=\"sk-item\"><div class=\"sk-estimator sk-toggleable\"><input class=\"sk-toggleable__control sk-hidden--visually\" id=\"sk-estimator-id-13\" type=\"checkbox\" ><label for=\"sk-estimator-id-13\" class=\"sk-toggleable__label sk-toggleable__label-arrow\">MunselColorMapper</label><div class=\"sk-toggleable__content\"><pre>MunselColorMapper()</pre></div></div></div><div class=\"sk-item\"><div class=\"sk-estimator sk-toggleable\"><input class=\"sk-toggleable__control sk-hidden--visually\" id=\"sk-estimator-id-14\" type=\"checkbox\" ><label for=\"sk-estimator-id-14\" class=\"sk-toggleable__label sk-toggleable__label-arrow\">StandardScaler</label><div class=\"sk-toggleable__content\"><pre>StandardScaler()</pre></div></div></div></div></div></div></div></div></div></div><div class=\"sk-item\"><div class=\"sk-estimator sk-toggleable\"><input class=\"sk-toggleable__control sk-hidden--visually\" id=\"sk-estimator-id-15\" type=\"checkbox\" ><label for=\"sk-estimator-id-15\" class=\"sk-toggleable__label sk-toggleable__label-arrow\">SVC</label><div class=\"sk-toggleable__content\"><pre>SVC(C=100, gamma=1, kernel=&#x27;linear&#x27;)</pre></div></div></div></div></div></div></div>"
      ],
      "text/plain": [
       "Pipeline(steps=[('columntransformer',\n",
       "                 ColumnTransformer(transformers=[('num_pipe',\n",
       "                                                  Pipeline(steps=[('simpleimputer',\n",
       "                                                                   SimpleImputer()),\n",
       "                                                                  ('zerotransform',\n",
       "                                                                   ZeroTransform()),\n",
       "                                                                  ('standardscaler',\n",
       "                                                                   StandardScaler())]),\n",
       "                                                  ['HCGR', 'HURA']),\n",
       "                                                 ('num_log_pipe',\n",
       "                                                  Pipeline(steps=[('simpleimputer',\n",
       "                                                                   SimpleImputer()),\n",
       "                                                                  ('zerotransform',\n",
       "                                                                   ZeroTransform()),\n",
       "                                                                  ('logtransformer',\n",
       "                                                                   LogTransformer()),\n",
       "                                                                  ('standardscaler',\n",
       "                                                                   StandardScaler())]),\n",
       "                                                  ['IMPH', 'SFLU']),\n",
       "                                                 ('cat_pipe',\n",
       "                                                  Pipeline(steps=[('munselcolormapper',\n",
       "                                                                   MunselColorMapper()),\n",
       "                                                                  ('standardscaler',\n",
       "                                                                   StandardScaler())]),\n",
       "                                                  ['munsel_color'])])),\n",
       "                ('svc', SVC(C=100, gamma=1, kernel='linear'))])"
      ]
     },
     "execution_count": 7,
     "metadata": {},
     "output_type": "execute_result"
    }
   ],
   "source": [
    "model.get_model()"
   ]
  },
  {
   "cell_type": "code",
   "execution_count": 8,
   "metadata": {},
   "outputs": [
    {
     "data": {
      "text/plain": [
       "array(['Marl', 'Mud', 'Marl', ..., 'Sandy Mud', 'Marl', 'Sandy Mud'],\n",
       "      dtype=object)"
      ]
     },
     "execution_count": 8,
     "metadata": {},
     "output_type": "execute_result"
    }
   ],
   "source": [
    "model.predict(path_to_new_file='data/new_data.csv')"
   ]
  },
  {
   "cell_type": "code",
   "execution_count": 9,
   "id": "b4d6ebc1-9490-4f02-b47e-9ec573539dd8",
   "metadata": {},
   "outputs": [
    {
     "data": {
      "text/plain": [
       "(8139    2\n",
       " 8138    3\n",
       " 8137    3\n",
       " 8136    2\n",
       " 8135    2\n",
       "        ..\n",
       " 4       4\n",
       " 3       4\n",
       " 2       1\n",
       " 1       4\n",
       " 0       4\n",
       " Name: lithology, Length: 7755, dtype: int64,\n",
       " 8139    2\n",
       " 8138    3\n",
       " 8137    3\n",
       " 8136    2\n",
       " 8135    2\n",
       "        ..\n",
       " 4       4\n",
       " 3       4\n",
       " 2       1\n",
       " 1       4\n",
       " 0       4\n",
       " Name: lithology, Length: 7755, dtype: int64)"
      ]
     },
     "execution_count": 9,
     "metadata": {},
     "output_type": "execute_result"
    }
   ],
   "source": [
    "model.get_ys() # Should return your  y_train and y_test"
   ]
  },
  {
   "cell_type": "code",
   "execution_count": 10,
   "id": "10cf61b6-9d2d-40c8-878e-a66d7ac74a1e",
   "metadata": {},
   "outputs": [
    {
     "data": {
      "text/plain": [
       "0.8760890113339297"
      ]
     },
     "execution_count": 10,
     "metadata": {},
     "output_type": "execute_result"
    }
   ],
   "source": [
    "model.x_test_score() # Should return your test F1 score macro"
   ]
  },
  {
   "cell_type": "code",
   "execution_count": 11,
   "id": "9c6f5a6c-117a-41d6-9d12-cf630ea797a6",
   "metadata": {},
   "outputs": [
    {
     "data": {
      "text/plain": [
       "array(['Marl', 'Mud', 'Marl', ..., 'Sandy Mud', 'Marl', 'Sandy Mud'],\n",
       "      dtype=object)"
      ]
     },
     "execution_count": 11,
     "metadata": {},
     "output_type": "execute_result"
    }
   ],
   "source": [
    "model.predict() # Should return an array or a Series of your predictions for the new samples"
   ]
  },
  {
   "cell_type": "code",
   "execution_count": 12,
   "id": "28e7874c-7ef1-4048-acda-72d10ece3fd2",
   "metadata": {},
   "outputs": [
    {
     "data": {
      "text/html": [
       "<style>#sk-container-id-2 {color: black;background-color: white;}#sk-container-id-2 pre{padding: 0;}#sk-container-id-2 div.sk-toggleable {background-color: white;}#sk-container-id-2 label.sk-toggleable__label {cursor: pointer;display: block;width: 100%;margin-bottom: 0;padding: 0.3em;box-sizing: border-box;text-align: center;}#sk-container-id-2 label.sk-toggleable__label-arrow:before {content: \"▸\";float: left;margin-right: 0.25em;color: #696969;}#sk-container-id-2 label.sk-toggleable__label-arrow:hover:before {color: black;}#sk-container-id-2 div.sk-estimator:hover label.sk-toggleable__label-arrow:before {color: black;}#sk-container-id-2 div.sk-toggleable__content {max-height: 0;max-width: 0;overflow: hidden;text-align: left;background-color: #f0f8ff;}#sk-container-id-2 div.sk-toggleable__content pre {margin: 0.2em;color: black;border-radius: 0.25em;background-color: #f0f8ff;}#sk-container-id-2 input.sk-toggleable__control:checked~div.sk-toggleable__content {max-height: 200px;max-width: 100%;overflow: auto;}#sk-container-id-2 input.sk-toggleable__control:checked~label.sk-toggleable__label-arrow:before {content: \"▾\";}#sk-container-id-2 div.sk-estimator input.sk-toggleable__control:checked~label.sk-toggleable__label {background-color: #d4ebff;}#sk-container-id-2 div.sk-label input.sk-toggleable__control:checked~label.sk-toggleable__label {background-color: #d4ebff;}#sk-container-id-2 input.sk-hidden--visually {border: 0;clip: rect(1px 1px 1px 1px);clip: rect(1px, 1px, 1px, 1px);height: 1px;margin: -1px;overflow: hidden;padding: 0;position: absolute;width: 1px;}#sk-container-id-2 div.sk-estimator {font-family: monospace;background-color: #f0f8ff;border: 1px dotted black;border-radius: 0.25em;box-sizing: border-box;margin-bottom: 0.5em;}#sk-container-id-2 div.sk-estimator:hover {background-color: #d4ebff;}#sk-container-id-2 div.sk-parallel-item::after {content: \"\";width: 100%;border-bottom: 1px solid gray;flex-grow: 1;}#sk-container-id-2 div.sk-label:hover label.sk-toggleable__label {background-color: #d4ebff;}#sk-container-id-2 div.sk-serial::before {content: \"\";position: absolute;border-left: 1px solid gray;box-sizing: border-box;top: 0;bottom: 0;left: 50%;z-index: 0;}#sk-container-id-2 div.sk-serial {display: flex;flex-direction: column;align-items: center;background-color: white;padding-right: 0.2em;padding-left: 0.2em;position: relative;}#sk-container-id-2 div.sk-item {position: relative;z-index: 1;}#sk-container-id-2 div.sk-parallel {display: flex;align-items: stretch;justify-content: center;background-color: white;position: relative;}#sk-container-id-2 div.sk-item::before, #sk-container-id-2 div.sk-parallel-item::before {content: \"\";position: absolute;border-left: 1px solid gray;box-sizing: border-box;top: 0;bottom: 0;left: 50%;z-index: -1;}#sk-container-id-2 div.sk-parallel-item {display: flex;flex-direction: column;z-index: 1;position: relative;background-color: white;}#sk-container-id-2 div.sk-parallel-item:first-child::after {align-self: flex-end;width: 50%;}#sk-container-id-2 div.sk-parallel-item:last-child::after {align-self: flex-start;width: 50%;}#sk-container-id-2 div.sk-parallel-item:only-child::after {width: 0;}#sk-container-id-2 div.sk-dashed-wrapped {border: 1px dashed gray;margin: 0 0.4em 0.5em 0.4em;box-sizing: border-box;padding-bottom: 0.4em;background-color: white;}#sk-container-id-2 div.sk-label label {font-family: monospace;font-weight: bold;display: inline-block;line-height: 1.2em;}#sk-container-id-2 div.sk-label-container {text-align: center;}#sk-container-id-2 div.sk-container {/* jupyter's `normalize.less` sets `[hidden] { display: none; }` but bootstrap.min.css set `[hidden] { display: none !important; }` so we also need the `!important` here to be able to override the default hidden behavior on the sphinx rendered scikit-learn.org. See: https://github.com/scikit-learn/scikit-learn/issues/21755 */display: inline-block !important;position: relative;}#sk-container-id-2 div.sk-text-repr-fallback {display: none;}</style><div id=\"sk-container-id-2\" class=\"sk-top-container\"><div class=\"sk-text-repr-fallback\"><pre>Pipeline(steps=[(&#x27;columntransformer&#x27;,\n",
       "                 ColumnTransformer(transformers=[(&#x27;num_pipe&#x27;,\n",
       "                                                  Pipeline(steps=[(&#x27;simpleimputer&#x27;,\n",
       "                                                                   SimpleImputer()),\n",
       "                                                                  (&#x27;zerotransform&#x27;,\n",
       "                                                                   ZeroTransform()),\n",
       "                                                                  (&#x27;standardscaler&#x27;,\n",
       "                                                                   StandardScaler())]),\n",
       "                                                  [&#x27;HCGR&#x27;, &#x27;HURA&#x27;]),\n",
       "                                                 (&#x27;num_log_pipe&#x27;,\n",
       "                                                  Pipeline(steps=[(&#x27;simpleimputer&#x27;,\n",
       "                                                                   SimpleImputer()),\n",
       "                                                                  (&#x27;zerotransform&#x27;,\n",
       "                                                                   ZeroTransform()),\n",
       "                                                                  (&#x27;logtransformer&#x27;,\n",
       "                                                                   LogTransformer()),\n",
       "                                                                  (&#x27;standardscaler&#x27;,\n",
       "                                                                   StandardScaler())]),\n",
       "                                                  [&#x27;IMPH&#x27;, &#x27;SFLU&#x27;]),\n",
       "                                                 (&#x27;cat_pipe&#x27;,\n",
       "                                                  Pipeline(steps=[(&#x27;munselcolormapper&#x27;,\n",
       "                                                                   MunselColorMapper()),\n",
       "                                                                  (&#x27;standardscaler&#x27;,\n",
       "                                                                   StandardScaler())]),\n",
       "                                                  [&#x27;munsel_color&#x27;])])),\n",
       "                (&#x27;svc&#x27;, SVC(C=100, gamma=1, kernel=&#x27;linear&#x27;))])</pre><b>In a Jupyter environment, please rerun this cell to show the HTML representation or trust the notebook. <br />On GitHub, the HTML representation is unable to render, please try loading this page with nbviewer.org.</b></div><div class=\"sk-container\" hidden><div class=\"sk-item sk-dashed-wrapped\"><div class=\"sk-label-container\"><div class=\"sk-label sk-toggleable\"><input class=\"sk-toggleable__control sk-hidden--visually\" id=\"sk-estimator-id-16\" type=\"checkbox\" ><label for=\"sk-estimator-id-16\" class=\"sk-toggleable__label sk-toggleable__label-arrow\">Pipeline</label><div class=\"sk-toggleable__content\"><pre>Pipeline(steps=[(&#x27;columntransformer&#x27;,\n",
       "                 ColumnTransformer(transformers=[(&#x27;num_pipe&#x27;,\n",
       "                                                  Pipeline(steps=[(&#x27;simpleimputer&#x27;,\n",
       "                                                                   SimpleImputer()),\n",
       "                                                                  (&#x27;zerotransform&#x27;,\n",
       "                                                                   ZeroTransform()),\n",
       "                                                                  (&#x27;standardscaler&#x27;,\n",
       "                                                                   StandardScaler())]),\n",
       "                                                  [&#x27;HCGR&#x27;, &#x27;HURA&#x27;]),\n",
       "                                                 (&#x27;num_log_pipe&#x27;,\n",
       "                                                  Pipeline(steps=[(&#x27;simpleimputer&#x27;,\n",
       "                                                                   SimpleImputer()),\n",
       "                                                                  (&#x27;zerotransform&#x27;,\n",
       "                                                                   ZeroTransform()),\n",
       "                                                                  (&#x27;logtransformer&#x27;,\n",
       "                                                                   LogTransformer()),\n",
       "                                                                  (&#x27;standardscaler&#x27;,\n",
       "                                                                   StandardScaler())]),\n",
       "                                                  [&#x27;IMPH&#x27;, &#x27;SFLU&#x27;]),\n",
       "                                                 (&#x27;cat_pipe&#x27;,\n",
       "                                                  Pipeline(steps=[(&#x27;munselcolormapper&#x27;,\n",
       "                                                                   MunselColorMapper()),\n",
       "                                                                  (&#x27;standardscaler&#x27;,\n",
       "                                                                   StandardScaler())]),\n",
       "                                                  [&#x27;munsel_color&#x27;])])),\n",
       "                (&#x27;svc&#x27;, SVC(C=100, gamma=1, kernel=&#x27;linear&#x27;))])</pre></div></div></div><div class=\"sk-serial\"><div class=\"sk-item sk-dashed-wrapped\"><div class=\"sk-label-container\"><div class=\"sk-label sk-toggleable\"><input class=\"sk-toggleable__control sk-hidden--visually\" id=\"sk-estimator-id-17\" type=\"checkbox\" ><label for=\"sk-estimator-id-17\" class=\"sk-toggleable__label sk-toggleable__label-arrow\">columntransformer: ColumnTransformer</label><div class=\"sk-toggleable__content\"><pre>ColumnTransformer(transformers=[(&#x27;num_pipe&#x27;,\n",
       "                                 Pipeline(steps=[(&#x27;simpleimputer&#x27;,\n",
       "                                                  SimpleImputer()),\n",
       "                                                 (&#x27;zerotransform&#x27;,\n",
       "                                                  ZeroTransform()),\n",
       "                                                 (&#x27;standardscaler&#x27;,\n",
       "                                                  StandardScaler())]),\n",
       "                                 [&#x27;HCGR&#x27;, &#x27;HURA&#x27;]),\n",
       "                                (&#x27;num_log_pipe&#x27;,\n",
       "                                 Pipeline(steps=[(&#x27;simpleimputer&#x27;,\n",
       "                                                  SimpleImputer()),\n",
       "                                                 (&#x27;zerotransform&#x27;,\n",
       "                                                  ZeroTransform()),\n",
       "                                                 (&#x27;logtransformer&#x27;,\n",
       "                                                  LogTransformer()),\n",
       "                                                 (&#x27;standardscaler&#x27;,\n",
       "                                                  StandardScaler())]),\n",
       "                                 [&#x27;IMPH&#x27;, &#x27;SFLU&#x27;]),\n",
       "                                (&#x27;cat_pipe&#x27;,\n",
       "                                 Pipeline(steps=[(&#x27;munselcolormapper&#x27;,\n",
       "                                                  MunselColorMapper()),\n",
       "                                                 (&#x27;standardscaler&#x27;,\n",
       "                                                  StandardScaler())]),\n",
       "                                 [&#x27;munsel_color&#x27;])])</pre></div></div></div><div class=\"sk-parallel\"><div class=\"sk-parallel-item\"><div class=\"sk-item\"><div class=\"sk-label-container\"><div class=\"sk-label sk-toggleable\"><input class=\"sk-toggleable__control sk-hidden--visually\" id=\"sk-estimator-id-18\" type=\"checkbox\" ><label for=\"sk-estimator-id-18\" class=\"sk-toggleable__label sk-toggleable__label-arrow\">num_pipe</label><div class=\"sk-toggleable__content\"><pre>[&#x27;HCGR&#x27;, &#x27;HURA&#x27;]</pre></div></div></div><div class=\"sk-serial\"><div class=\"sk-item\"><div class=\"sk-serial\"><div class=\"sk-item\"><div class=\"sk-estimator sk-toggleable\"><input class=\"sk-toggleable__control sk-hidden--visually\" id=\"sk-estimator-id-19\" type=\"checkbox\" ><label for=\"sk-estimator-id-19\" class=\"sk-toggleable__label sk-toggleable__label-arrow\">SimpleImputer</label><div class=\"sk-toggleable__content\"><pre>SimpleImputer()</pre></div></div></div><div class=\"sk-item\"><div class=\"sk-estimator sk-toggleable\"><input class=\"sk-toggleable__control sk-hidden--visually\" id=\"sk-estimator-id-20\" type=\"checkbox\" ><label for=\"sk-estimator-id-20\" class=\"sk-toggleable__label sk-toggleable__label-arrow\">ZeroTransform</label><div class=\"sk-toggleable__content\"><pre>ZeroTransform()</pre></div></div></div><div class=\"sk-item\"><div class=\"sk-estimator sk-toggleable\"><input class=\"sk-toggleable__control sk-hidden--visually\" id=\"sk-estimator-id-21\" type=\"checkbox\" ><label for=\"sk-estimator-id-21\" class=\"sk-toggleable__label sk-toggleable__label-arrow\">StandardScaler</label><div class=\"sk-toggleable__content\"><pre>StandardScaler()</pre></div></div></div></div></div></div></div></div><div class=\"sk-parallel-item\"><div class=\"sk-item\"><div class=\"sk-label-container\"><div class=\"sk-label sk-toggleable\"><input class=\"sk-toggleable__control sk-hidden--visually\" id=\"sk-estimator-id-22\" type=\"checkbox\" ><label for=\"sk-estimator-id-22\" class=\"sk-toggleable__label sk-toggleable__label-arrow\">num_log_pipe</label><div class=\"sk-toggleable__content\"><pre>[&#x27;IMPH&#x27;, &#x27;SFLU&#x27;]</pre></div></div></div><div class=\"sk-serial\"><div class=\"sk-item\"><div class=\"sk-serial\"><div class=\"sk-item\"><div class=\"sk-estimator sk-toggleable\"><input class=\"sk-toggleable__control sk-hidden--visually\" id=\"sk-estimator-id-23\" type=\"checkbox\" ><label for=\"sk-estimator-id-23\" class=\"sk-toggleable__label sk-toggleable__label-arrow\">SimpleImputer</label><div class=\"sk-toggleable__content\"><pre>SimpleImputer()</pre></div></div></div><div class=\"sk-item\"><div class=\"sk-estimator sk-toggleable\"><input class=\"sk-toggleable__control sk-hidden--visually\" id=\"sk-estimator-id-24\" type=\"checkbox\" ><label for=\"sk-estimator-id-24\" class=\"sk-toggleable__label sk-toggleable__label-arrow\">ZeroTransform</label><div class=\"sk-toggleable__content\"><pre>ZeroTransform()</pre></div></div></div><div class=\"sk-item\"><div class=\"sk-estimator sk-toggleable\"><input class=\"sk-toggleable__control sk-hidden--visually\" id=\"sk-estimator-id-25\" type=\"checkbox\" ><label for=\"sk-estimator-id-25\" class=\"sk-toggleable__label sk-toggleable__label-arrow\">LogTransformer</label><div class=\"sk-toggleable__content\"><pre>LogTransformer()</pre></div></div></div><div class=\"sk-item\"><div class=\"sk-estimator sk-toggleable\"><input class=\"sk-toggleable__control sk-hidden--visually\" id=\"sk-estimator-id-26\" type=\"checkbox\" ><label for=\"sk-estimator-id-26\" class=\"sk-toggleable__label sk-toggleable__label-arrow\">StandardScaler</label><div class=\"sk-toggleable__content\"><pre>StandardScaler()</pre></div></div></div></div></div></div></div></div><div class=\"sk-parallel-item\"><div class=\"sk-item\"><div class=\"sk-label-container\"><div class=\"sk-label sk-toggleable\"><input class=\"sk-toggleable__control sk-hidden--visually\" id=\"sk-estimator-id-27\" type=\"checkbox\" ><label for=\"sk-estimator-id-27\" class=\"sk-toggleable__label sk-toggleable__label-arrow\">cat_pipe</label><div class=\"sk-toggleable__content\"><pre>[&#x27;munsel_color&#x27;]</pre></div></div></div><div class=\"sk-serial\"><div class=\"sk-item\"><div class=\"sk-serial\"><div class=\"sk-item\"><div class=\"sk-estimator sk-toggleable\"><input class=\"sk-toggleable__control sk-hidden--visually\" id=\"sk-estimator-id-28\" type=\"checkbox\" ><label for=\"sk-estimator-id-28\" class=\"sk-toggleable__label sk-toggleable__label-arrow\">MunselColorMapper</label><div class=\"sk-toggleable__content\"><pre>MunselColorMapper()</pre></div></div></div><div class=\"sk-item\"><div class=\"sk-estimator sk-toggleable\"><input class=\"sk-toggleable__control sk-hidden--visually\" id=\"sk-estimator-id-29\" type=\"checkbox\" ><label for=\"sk-estimator-id-29\" class=\"sk-toggleable__label sk-toggleable__label-arrow\">StandardScaler</label><div class=\"sk-toggleable__content\"><pre>StandardScaler()</pre></div></div></div></div></div></div></div></div></div></div><div class=\"sk-item\"><div class=\"sk-estimator sk-toggleable\"><input class=\"sk-toggleable__control sk-hidden--visually\" id=\"sk-estimator-id-30\" type=\"checkbox\" ><label for=\"sk-estimator-id-30\" class=\"sk-toggleable__label sk-toggleable__label-arrow\">SVC</label><div class=\"sk-toggleable__content\"><pre>SVC(C=100, gamma=1, kernel=&#x27;linear&#x27;)</pre></div></div></div></div></div></div></div>"
      ],
      "text/plain": [
       "Pipeline(steps=[('columntransformer',\n",
       "                 ColumnTransformer(transformers=[('num_pipe',\n",
       "                                                  Pipeline(steps=[('simpleimputer',\n",
       "                                                                   SimpleImputer()),\n",
       "                                                                  ('zerotransform',\n",
       "                                                                   ZeroTransform()),\n",
       "                                                                  ('standardscaler',\n",
       "                                                                   StandardScaler())]),\n",
       "                                                  ['HCGR', 'HURA']),\n",
       "                                                 ('num_log_pipe',\n",
       "                                                  Pipeline(steps=[('simpleimputer',\n",
       "                                                                   SimpleImputer()),\n",
       "                                                                  ('zerotransform',\n",
       "                                                                   ZeroTransform()),\n",
       "                                                                  ('logtransformer',\n",
       "                                                                   LogTransformer()),\n",
       "                                                                  ('standardscaler',\n",
       "                                                                   StandardScaler())]),\n",
       "                                                  ['IMPH', 'SFLU']),\n",
       "                                                 ('cat_pipe',\n",
       "                                                  Pipeline(steps=[('munselcolormapper',\n",
       "                                                                   MunselColorMapper()),\n",
       "                                                                  ('standardscaler',\n",
       "                                                                   StandardScaler())]),\n",
       "                                                  ['munsel_color'])])),\n",
       "                ('svc', SVC(C=100, gamma=1, kernel='linear'))])"
      ]
     },
     "execution_count": 12,
     "metadata": {},
     "output_type": "execute_result"
    }
   ],
   "source": [
    "model.get_model() # Should return your trained pipeline"
   ]
  },
  {
   "cell_type": "markdown",
   "id": "d5caab67-5297-4279-bef2-5df9b1434084",
   "metadata": {},
   "source": [
    "### ☄️ GOOD LUCK!"
   ]
  },
  {
   "cell_type": "markdown",
   "id": "2f4c37ac-d4bd-4042-9a21-6e24ded61d21",
   "metadata": {
    "jp-MarkdownHeadingCollapsed": true,
    "tags": []
   },
   "source": [
    "# 🏁 Finished!\n",
    "\n",
    "Well done! <span style=\"color:teal\">**Push your exercise to GitHub**</span>, and move on to the next one."
   ]
  }
 ],
 "metadata": {
  "kernelspec": {
   "display_name": "Python 3 (ipykernel)",
   "language": "python",
   "name": "python3"
  },
  "language_info": {
   "codemirror_mode": {
    "name": "ipython",
    "version": 3
   },
   "file_extension": ".py",
   "mimetype": "text/x-python",
   "name": "python",
   "nbconvert_exporter": "python",
   "pygments_lexer": "ipython3",
   "version": "3.11.5"
  }
 },
 "nbformat": 4,
 "nbformat_minor": 5
}
